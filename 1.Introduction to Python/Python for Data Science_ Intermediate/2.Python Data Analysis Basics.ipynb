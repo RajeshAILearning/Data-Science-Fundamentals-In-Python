{
 "cells": [
  {
   "cell_type": "markdown",
   "metadata": {},
   "source": [
    "## Rajesh's DS & AI Learning"
   ]
  },
  {
   "cell_type": "markdown",
   "metadata": {},
   "source": [
    "# 1. Reading our MoMA Data Set"
   ]
  },
  {
   "cell_type": "markdown",
   "metadata": {},
   "source": [
    "We'll learn how to:\n",
    "\n",
    "* Calculate how old the artist was when they created their artwork.\n",
    "* Analyze and interpret the distribution of artist ages.\n",
    "* Create functions which summarize our data.\n",
    "* Print summaries in an easy-to-read-way."
   ]
  },
  {
   "cell_type": "code",
   "execution_count": 2,
   "metadata": {},
   "outputs": [],
   "source": [
    "import os\n",
    "\n",
    "# Define the name of your CSV file\n",
    "csv_filename = \"artworks_clean.csv\"\n",
    "\n",
    "# Get the current directory of the Python script\n",
    "current_directory = os.getcwd()\n",
    "\n",
    "# Move back to the grandparent directory (two levels up)\n",
    "project_directory = os.path.dirname(os.path.dirname(current_directory))\n",
    "\n",
    "# Navigate to the \"datasets\" folder\n",
    "datasets_directory = os.path.join(project_directory, \"DataSets\")\n",
    "\n",
    "# Construct the full path to your CSV file\n",
    "csv_path = os.path.join(datasets_directory, csv_filename)\n",
    "\n",
    "# Check if the file exists\n",
    "if os.path.exists(csv_path):\n",
    "    print(\"CSV file found at:\", csv_path)\n",
    "else:\n",
    "    print(\"CSV file not found at:\", csv_path)\n",
    "\n",
    "from csv import reader\n",
    "\n",
    "moma=reader(open(csv_path,encoding='utf-8'))\n",
    "\n",
    "#convert above data file into list of list format\n",
    "moma=list(moma)"
   ]
  },
  {
   "cell_type": "markdown",
   "metadata": {},
   "source": [
    " Even though we converted the numeric columns to integer types in the previous mission, when we saved the results as a CSV, they became text data again:\n",
    " Even though we don't have to clean the data again, we do have to convert these values to numeric types so we can analyze them. You may remember that some of the rows have missing values, so we'll need to handle those as well."
   ]
  },
  {
   "cell_type": "code",
   "execution_count": null,
   "metadata": {},
   "outputs": [],
   "source": [
    "column_names=moma[:1]\n",
    "column_names"
   ]
  },
  {
   "cell_type": "code",
   "execution_count": 4,
   "metadata": {},
   "outputs": [],
   "source": [
    "moma=moma[1:]"
   ]
  },
  {
   "cell_type": "code",
   "execution_count": null,
   "metadata": {},
   "outputs": [],
   "source": [
    "for row in moma[:5]:\n",
    "    print(row)\n",
    "print(column_names)"
   ]
  },
  {
   "cell_type": "code",
   "execution_count": 13,
   "metadata": {},
   "outputs": [],
   "source": [
    "# convert values of 'BeginDate' to int\n",
    "for row in moma:\n",
    "    birth_date=row[3]\n",
    "    if birth_date !='':\n",
    "        row[3]=int(birth_date)        "
   ]
  },
  {
   "cell_type": "code",
   "execution_count": 15,
   "metadata": {},
   "outputs": [],
   "source": [
    "# convert values of 'EndDate' to int\n",
    "for row in moma:\n",
    "    death_date=row[4]\n",
    "    if death_date !='':\n",
    "        row[4]=int(death_date)    "
   ]
  },
  {
   "cell_type": "code",
   "execution_count": 16,
   "metadata": {},
   "outputs": [],
   "source": [
    "# convert values of 'Date' to int\n",
    "for row in moma:\n",
    "    date=row[6]\n",
    "    if date !='':\n",
    "        row[6]=int(date)    "
   ]
  },
  {
   "cell_type": "markdown",
   "metadata": {},
   "source": [
    "# 2. Calculating Artist Ages"
   ]
  },
  {
   "cell_type": "markdown",
   "metadata": {},
   "source": [
    "There are a handful of cases where the artist's age (according to our data set) is very low, including some where the age is negative. We could investigate these specific cases one by one, but since we're looking for a summary, we'll take care of these by categorizing artists younger than 20 as \"Unknown\" also."
   ]
  },
  {
   "cell_type": "code",
   "execution_count": 21,
   "metadata": {},
   "outputs": [],
   "source": [
    "# calculate age and replace '' with 0 value\n",
    "ages=[]\n",
    "for row in moma:\n",
    "    work_date=row[6]\n",
    "    birth_date=row[3]\n",
    "    if type(birth_date)==int and type(work_date)==int:\n",
    "        age=work_date-birth_date\n",
    "        ages.append(age)\n",
    "    else:\n",
    "        age=0\n",
    "        ages.append(age)\n",
    "        "
   ]
  },
  {
   "cell_type": "code",
   "execution_count": 22,
   "metadata": {},
   "outputs": [],
   "source": [
    "# Replace age<20 with Unknown\n",
    "final_ages=[]\n",
    "for age in ages:\n",
    "    if age<20:\n",
    "        final_ages.append('Unknown')\n",
    "    else:\n",
    "        final_ages.append(age)"
   ]
  },
  {
   "cell_type": "code",
   "execution_count": null,
   "metadata": {},
   "outputs": [],
   "source": [
    "print(final_ages)"
   ]
  },
  {
   "cell_type": "markdown",
   "metadata": {},
   "source": [
    "# 3. Converting Ages to Decades"
   ]
  },
  {
   "cell_type": "markdown",
   "metadata": {},
   "source": [
    "We now have a list — ages — containing the artist ages during which each artwork was produced. Because there are many unique ages, we'll calculate only the decade in which the artist created each work. For instance, if we calculate that the artist was 24, we'll record that as the artist being in their \"20s.\""
   ]
  },
  {
   "cell_type": "code",
   "execution_count": 26,
   "metadata": {},
   "outputs": [],
   "source": [
    "decades=[]\n",
    "\n",
    "for age in final_ages:\n",
    "    if age !='Unknown':\n",
    "        age=str(age)\n",
    "        age=age[:-1]\n",
    "        decade=age+'0s'\n",
    "        decades.append(decade)\n",
    "    else:\n",
    "        decades.append(age)"
   ]
  },
  {
   "cell_type": "code",
   "execution_count": null,
   "metadata": {},
   "outputs": [],
   "source": [
    "print(decades)"
   ]
  },
  {
   "cell_type": "markdown",
   "metadata": {},
   "source": [
    "# 4. Summarizing the Decade Data"
   ]
  },
  {
   "cell_type": "markdown",
   "metadata": {},
   "source": [
    "* Calculated the age of the artist when each artwork was created.\n",
    "* Simplified those ages to a list of \"decades\" so there were fewer unique values."
   ]
  },
  {
   "cell_type": "markdown",
   "metadata": {},
   "source": [
    "The last step of our analysis is to count how many instances of each decade there are. To do this, we're going to use a technique from the Python Fundamentals course: constructing a frequency table."
   ]
  },
  {
   "cell_type": "code",
   "execution_count": 30,
   "metadata": {},
   "outputs": [],
   "source": [
    "decades_frequency={}\n",
    "\n",
    "for decade in decades:\n",
    "    if decade in decades_frequency:\n",
    "        decades_frequency[decade]+=1\n",
    "    else:\n",
    "        decades_frequency[decade]=1"
   ]
  },
  {
   "cell_type": "code",
   "execution_count": null,
   "metadata": {},
   "outputs": [],
   "source": [
    "print(decades_frequency)"
   ]
  },
  {
   "cell_type": "markdown",
   "metadata": {},
   "source": [
    "# 5. Inserting Variables Into Strings"
   ]
  },
  {
   "cell_type": "code",
   "execution_count": null,
   "metadata": {},
   "outputs": [],
   "source": [
    "# approach 1 is inserting using string concatenation\n",
    "\n",
    "name='Rajeshkumar'\n",
    "age='29'\n",
    "output= 'my name is'+' '+name+' '+'age is '+age\n",
    "print(output)"
   ]
  },
  {
   "cell_type": "code",
   "execution_count": null,
   "metadata": {},
   "outputs": [],
   "source": [
    "# Approach 2 is using str.format function\n",
    "\n",
    "name='Rajeshkumar'\n",
    "age='29'\n",
    "data= 'my name is {} and age is {}'\n",
    "print(data.format(name,age))"
   ]
  },
  {
   "cell_type": "markdown",
   "metadata": {},
   "source": [
    "# 6. Creating an Artist Frequency Table"
   ]
  },
  {
   "cell_type": "code",
   "execution_count": 35,
   "metadata": {},
   "outputs": [],
   "source": [
    "artist_freq={}\n",
    "for row in moma:\n",
    "    if row[1] in artist_freq:\n",
    "        artist_freq[row[1]]+=1\n",
    "    else:\n",
    "        artist_freq[row[1]]=1"
   ]
  },
  {
   "cell_type": "code",
   "execution_count": null,
   "metadata": {},
   "outputs": [],
   "source": [
    "print(artist_freq)"
   ]
  },
  {
   "cell_type": "markdown",
   "metadata": {},
   "source": [
    "# 7. Creating an Artist Summary Function"
   ]
  },
  {
   "cell_type": "markdown",
   "metadata": {},
   "source": [
    "Create a function that displays information for a specific artist."
   ]
  },
  {
   "cell_type": "code",
   "execution_count": 37,
   "metadata": {},
   "outputs": [],
   "source": [
    "def artist_summary(name):\n",
    "    print('There are {} artworks done by {} in dataset'.format(artist_freq[name],name))"
   ]
  },
  {
   "cell_type": "code",
   "execution_count": null,
   "metadata": {},
   "outputs": [],
   "source": [
    "for artist in artist_freq:\n",
    "    artist_summary(artist)"
   ]
  },
  {
   "cell_type": "markdown",
   "metadata": {},
   "source": [
    "# 8. Formatting Numbers Inside Strings"
   ]
  },
  {
   "cell_type": "markdown",
   "metadata": {},
   "source": [
    "One other powerful usage of str.format() method is its ability to help us apply formatting to numbers as they are inserted into the string. "
   ]
  },
  {
   "cell_type": "markdown",
   "metadata": {},
   "source": [
    "* We specify number formatting, including things like precision, by adding one of various format specifications inside the braces ({}) of our string\n",
    "* To indicate the precision of two, we specify :.2f after the name or position of our argument:"
   ]
  },
  {
   "attachments": {
    "image.png": {
     "image/png": "[encoded data removed]"
    }
   },
   "cell_type": "markdown",
   "metadata": {},
   "source": [
    "![image.png](attachment:image.png)"
   ]
  },
  {
   "cell_type": "code",
   "execution_count": null,
   "metadata": {},
   "outputs": [],
   "source": [
    "pop_millions = [\n",
    "    [\"China\", 1379.302771],\n",
    "    [\"India\", 1281.935991],\n",
    "    [\"USA\",  326.625791],\n",
    "    [\"Indonesia\",  260.580739],\n",
    "    [\"Brazil\",  207.353391],\n",
    "]\n",
    "for p in pop_millions:\n",
    "    c_name=p[0]\n",
    "    c_pop=p[1]\n",
    "    print(\"The population of {} is {b:.2f} million\".format(c_name,b=c_pop))"
   ]
  },
  {
   "cell_type": "markdown",
   "metadata": {},
   "source": [
    " # 9.Challenge: Summarizing Artwork Gender Data"
   ]
  },
  {
   "cell_type": "code",
   "execution_count": 45,
   "metadata": {},
   "outputs": [],
   "source": [
    "gender_freq={}\n",
    "for row in moma:\n",
    "    if row[-3] in gender_freq:\n",
    "        gender_freq[row[-3]]+=1\n",
    "    else:\n",
    "        gender_freq[row[-3]]=1"
   ]
  },
  {
   "cell_type": "code",
   "execution_count": null,
   "metadata": {},
   "outputs": [],
   "source": [
    "for gender,num in gender_freq.items():\n",
    "    template = \"There are {n:,} artworks by {g} artists\"\n",
    "    print(template.format(g=gender, n=num))"
   ]
  }
 ],
 "metadata": {
  "kernelspec": {
   "display_name": "Python 3",
   "language": "python",
   "name": "python3"
  },
  "language_info": {
   "codemirror_mode": {
    "name": "ipython",
    "version": 3
   },
   "file_extension": ".py",
   "mimetype": "text/x-python",
   "name": "python",
   "nbconvert_exporter": "python",
   "pygments_lexer": "ipython3",
   "version": "3.7.3"
  }
 },
 "nbformat": 4,
 "nbformat_minor": 2
}
