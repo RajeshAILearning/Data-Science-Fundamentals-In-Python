{
 "cells": [
  {
   "cell_type": "markdown",
   "metadata": {},
   "source": [
    "## Rajesh's DS & AI Learning"
   ]
  },
  {
   "cell_type": "markdown",
   "metadata": {},
   "source": [
    "# 1. Aesthetics"
   ]
  },
  {
   "cell_type": "markdown",
   "metadata": {},
   "source": [
    "In this course, `we'll focus on how to use data visualization to communicate insights and tell stories`. In this mission, we'll start with a standard matplotlib plot and improve its appearance to better communicate the patterns we want a viewer to understand. Along the way, we'll introduce the principles that informed those changes and provide a framework for you to apply them in the future."
   ]
  },
  {
   "cell_type": "markdown",
   "metadata": {},
   "source": [
    "Here's a preview that demonstrates some of the improvements we make in this course:"
   ]
  },
  {
   "cell_type": "code",
   "execution_count": 1,
   "metadata": {},
   "outputs": [
    {
     "data": {
      "text/html": [
       "<img src=\"https://s3.amazonaws.com/dq-content/storytelling_course_overview.png\"/>"
      ],
      "text/plain": [
       "<IPython.core.display.Image object>"
      ]
     },
     "execution_count": 1,
     "metadata": {},
     "output_type": "execute_result"
    }
   ],
   "source": [
    "from IPython.display import Image\n",
    "Image(url='https://s3.amazonaws.com/dq-content/storytelling_course_overview.png')"
   ]
  },
  {
   "cell_type": "markdown",
   "metadata": {},
   "source": [
    "# 2. Introduction To The Data"
   ]
  },
  {
   "cell_type": "markdown",
   "metadata": {},
   "source": [
    "[The Department of Education Statistics](https://nces.ed.gov/programs/digest/2013menu_tables.asp) releases a data set annually containing the percentage of bachelor's degrees granted to women from 1970 to 2012. The data set is broken up into 17 categories of degrees, with each column as a separate category."
   ]
  },
  {
   "cell_type": "markdown",
   "metadata": {},
   "source": [
    "Randal Olson, a data scientist at University of Pennsylvania, has cleaned the data set and made it available on his personal website. You can download the dataset Randal compiled [here](http://www.randalolson.com/wp-content/uploads/percent-bachelors-degrees-women-usa.csv). "
   ]
  },
  {
   "cell_type": "markdown",
   "metadata": {},
   "source": [
    "Randal compiled this data set to explore the gender gap in STEM fields, which stands for science, technology, engineering, and mathematics. This gap is reported on often [in the news](https://www.google.com/search?hl=en&gl=us&tbm=nws&authuser=0&q=gender+gap+stem&oq=gender+gap+stem&gs_l=news) and [not everyone agrees](https://www.pbs.org/newshour/economy/making-sense/truth-women-stem-careers) that there is a gap."
   ]
  },
  {
   "cell_type": "markdown",
   "metadata": {},
   "source": [
    "**In this mission and the next few missions, we'll explore how we can communicate the nuanced narrative of gender gap using effective data visualization.**"
   ]
  },
  {
   "cell_type": "markdown",
   "metadata": {},
   "source": [
    "# 3. Introduction To The Data"
   ]
  },
  {
   "cell_type": "code",
   "execution_count": 2,
   "metadata": {},
   "outputs": [],
   "source": [
    "import os\n",
    "\n",
    "# Define the name of your CSV file\n",
    "csv_filename = \"percent-bachelors-degrees-women-usa.csv\"\n",
    "\n",
    "# Get the current directory of the Python script\n",
    "current_directory = os.getcwd()\n",
    "\n",
    "# Move back to the grandparent directory (two levels up)\n",
    "project_directory = os.path.dirname(os.path.dirname(current_directory))\n",
    "\n",
    "# Navigate to the \"datasets\" folder\n",
    "datasets_directory = os.path.join(project_directory, \"DataSets\")\n",
    "\n",
    "# Construct the full path to your CSV file\n",
    "csv_path = os.path.join(datasets_directory, csv_filename)\n",
    "\n",
    "# Check if the file exists\n",
    "if os.path.exists(csv_path):\n",
    "    print(\"CSV file found at:\", csv_path)\n",
    "else:\n",
    "    print(\"CSV file not found at:\", csv_path)\n",
    "\n",
    "import pandas as pd\n",
    "import matplotlib.pyplot as plt\n",
    "\n",
    "%matplotlib inline"
   ]
  },
  {
   "cell_type": "code",
   "execution_count": null,
   "metadata": {},
   "outputs": [],
   "source": [
    "women_degrees=pd.read_csv(csv_path)\n",
    "women_degrees.head()"
   ]
  },
  {
   "cell_type": "markdown",
   "metadata": {},
   "source": [
    "## TODO:\n",
    "* Generate a line chart that visualizes the historical percentage of Biology degrees awarded to women:\n",
    "  * Set the x-axis to the Year column from women_degrees.\n",
    "  * Set the y-axis to the Biology column from women_degrees.\n",
    "* Display the plot."
   ]
  },
  {
   "cell_type": "code",
   "execution_count": null,
   "metadata": {},
   "outputs": [],
   "source": [
    "plt.plot(women_degrees['Year'],women_degrees['Biology'])"
   ]
  },
  {
   "cell_type": "markdown",
   "metadata": {},
   "source": [
    "# 4. Visualizing The Gender Gap"
   ]
  },
  {
   "cell_type": "markdown",
   "metadata": {},
   "source": [
    "From the plot, we can tell that Biology degrees increased steadily from 1970 and peaked in the early 2000's. We can also tell that the percentage has stayed above 50% since around 1987. While it's helpful to visualize the trend of Biology degrees awarded to women, it only tells half the story. If we want the gender gap to be apparent and emphasized in the plot, we need a visual analogy to the difference in the percentages between the genders."
   ]
  },
  {
   "cell_type": "markdown",
   "metadata": {},
   "source": [
    "We can calculate the percentages of Biology degrees awarded to men by subtracting each value in the Biology column from 100. Once we have the male percentages, we can generate two line charts as part of the same diagram."
   ]
  },
  {
   "cell_type": "markdown",
   "metadata": {},
   "source": [
    "## TODO:\n",
    "* Generate 2 line charts on the same figure:\n",
    "  * One that visualizes the percentages of Biology degrees awarded to women over time. Set the line color to \"blue\" and the label to \"Women\".\n",
    "  * One that visualizes the percentages of Biology degrees awarded to men over time. Set the line color to \"green\" and the label to \"Men\".\n",
    "* Set the title of the chart to \"Percentage of Biology Degrees Awarded By Gender\".\n",
    "* Generate a legend and place it in the \"upper right\" location.\n",
    "* Display the chart."
   ]
  },
  {
   "cell_type": "code",
   "execution_count": null,
   "metadata": {},
   "outputs": [],
   "source": [
    "plt.plot(women_degrees['Year'],women_degrees['Biology'],label='women')\n",
    "plt.plot(women_degrees['Year'],100-women_degrees['Biology'],label='men')\n",
    "plt.title('Percentage of Biology Degrees Awarded By Gender')\n",
    "plt.legend(loc='upper right')"
   ]
  },
  {
   "cell_type": "markdown",
   "metadata": {},
   "source": [
    "# 5. Data-Ink Ratio"
   ]
  },
  {
   "cell_type": "markdown",
   "metadata": {},
   "source": [
    "The chart containing both line charts tells a more complete story than the one containing just the line chart that visualized just the women percentages. This plot instead tells the story of two distinct periods. In the first period, from 1970 to around 1987, women were a minority when it came to majoring in Biology while in the second period, from around 1987 to around 2012, women became a majority. You can see the point where women overtook men where the lines intersect. While a viewer could have reached the same conclusions using the individual line chart of just the women percentages, it would have required more effort and mental processing on their part."
   ]
  },
  {
   "cell_type": "markdown",
   "metadata": {},
   "source": [
    "Although our plot is better, it still contains` some extra visual elements that aren't necessary to understand the data`. We're interested in helping people understand the gender gap in different fields across time. These excess elements, sometimes known as [chartjunk](https://en.wikipedia.org/wiki/Chartjunk), increase as we add more plots for visualizing the other degrees, making it harder for anyone trying to interpret our charts.` In general, we want to maximize the` [data-ink ratio](https://infovis-wiki.net/wiki/Data-Ink_Ratio),` which is the fractional amount of the plotting area dedicated to displaying the data.`"
   ]
  },
  {
   "cell_type": "markdown",
   "metadata": {},
   "source": [
    "`Non-data ink includes any elements in the chart that don't directly display data points. This includes tick markers, tick labels, and legends.` Data ink includes any elements that display and depend on the data points underlying the chart. In a line chart, data ink would primarily be the lines and in a scatter plot, the data ink would primarily be in the markers.` As we increase the data-ink ratio, we decrease non-data ink that can help a viewer understand certain aspects of the plots`. We need to be mindful of this trade-off as we work on tweaking the appearance of plots to tell a story, because plots we create could end up telling the wrong story."
   ]
  },
  {
   "cell_type": "markdown",
   "metadata": {},
   "source": [
    "This principle was originally set forth by [Edward Tufte](https://en.wikipedia.org/wiki/Edward_Tufte), a pioneer of the field of data visualization. Tufte's first book, [The Visual Display of Quantitative Information](https://www.edwardtufte.com/tufte/books_vdqi), is considered a bible among information designers."
   ]
  },
  {
   "cell_type": "code",
   "execution_count": null,
   "metadata": {},
   "outputs": [],
   "source": [
    "from IPython.display import Image\n",
    "Image(url='https://s3.amazonaws.com/dq-content/147/data-ink.gif')"
   ]
  },
  {
   "cell_type": "markdown",
   "metadata": {},
   "source": [
    "# 6. Hiding Tick Marks"
   ]
  },
  {
   "cell_type": "markdown",
   "metadata": {},
   "source": [
    "**To customize the appearance of the ticks, we use the `Axes.tick_params()` method. Using this method, we can modify which tick marks and tick labels are displayed.**"
   ]
  },
  {
   "cell_type": "markdown",
   "metadata": {},
   "source": [
    "To hide all of them, we need to pass in the following values for each parameter when we call Axes.tick_params():\n",
    "\n",
    "* bottom: \"off\"\n",
    "* top: \"off\"\n",
    "* left: \"off\"\n",
    "* right: \"off\""
   ]
  },
  {
   "cell_type": "markdown",
   "metadata": {},
   "source": [
    "## TODO:\n",
    "* Generate 2 line charts in the same plotting area:\n",
    "  * One that visualizes the percentages of Biology degrees awarded to women over time. Set the line color to \"blue\" and the label to \"Women\".\n",
    "  * One that visualizes the percentages of Biology degrees awarded to men over time. Set the line color to \"green\" and the label to \"Men\".\n",
    "* Remove all of the tick marks.\n",
    "* Set the title of the plot to \"Percentage of Biology Degrees Awarded By Gender\".\n",
    "* Generate a legend and place it in the \"upper right\" location.\n",
    "* Display the chart."
   ]
  },
  {
   "cell_type": "code",
   "execution_count": null,
   "metadata": {},
   "outputs": [],
   "source": [
    "fig,ax=plt.subplots()\n",
    "\n",
    "ax.plot(women_degrees['Year'],women_degrees['Biology'],c='blue',label='women')\n",
    "ax.plot(women_degrees['Year'],100-women_degrees['Biology'],c='green',label='men')\n",
    "\n",
    "ax.tick_params(bottom='false',top='false',left='false',right='false')\n",
    "plt.title('Percentage of Biology Degrees Awarded By Gender')\n",
    "plt.legend(loc='upper right')"
   ]
  },
  {
   "cell_type": "markdown",
   "metadata": {},
   "source": [
    "# 7. Hiding Spines"
   ]
  },
  {
   "cell_type": "markdown",
   "metadata": {},
   "source": [
    "With the axis tick marks gone, the data-ink ratio is improved and the chart looks much cleaner. In addition, the spines in the chart now are no longer necessary. When we're exploring data, the spines and the ticks complement each other to help us refer back to specific data points or ranges. When a viewer is viewing our chart and trying to understand the insight we're presenting, the ticks and spines can get in the way. "
   ]
  },
  {
   "cell_type": "markdown",
   "metadata": {},
   "source": [
    "To hide all of the spines, we need to:\n",
    "\n",
    "* access each Spine object in the dictionary\n",
    "* call the Spine.set_visible() method\n",
    "* pass in the Boolean value False\n",
    "\n",
    "`ax.spines[\"right\"].set_visible(False)`"
   ]
  },
  {
   "cell_type": "markdown",
   "metadata": {},
   "source": [
    "## TODO:\n",
    "* Generate 2 line charts on the same plotting area:\n",
    "  * One that visualizes the percentages of Biology degrees awarded to women over time. Set the line color to \"blue\" and the label to \"Women\".\n",
    "  * One that visualizes the percentages of Biology degrees awarded to men over time. Set the line color to \"green\" and the label to \"Men\".\n",
    "* Remove all of the axis tick marks.\n",
    "* Hide all of the spines.\n",
    "* Set the title of the plot to \"Percentage of Biology Degrees Awarded By Gender\".\n",
    "* Generate a legend and place it in the \"upper right\" location.\n",
    "* Display the chart."
   ]
  },
  {
   "cell_type": "code",
   "execution_count": null,
   "metadata": {},
   "outputs": [],
   "source": [
    "fig,ax=plt.subplots()\n",
    "\n",
    "ax.plot(women_degrees['Year'],women_degrees['Biology'],c='blue',label='women')\n",
    "ax.plot(women_degrees['Year'],100-women_degrees['Biology'],c='green',label='men')\n",
    "\n",
    "ax.spines['right'].set_visible(False)\n",
    "ax.spines['left'].set_visible(False)\n",
    "ax.spines['bottom'].set_visible(False)\n",
    "ax.spines['top'].set_visible(False)\n",
    "\n",
    "ax.tick_params(bottom='false',top='false',left='false',right='false')\n",
    "plt.title('Percentage of Biology Degrees Awarded By Gender')\n",
    "plt.legend(loc='upper right')"
   ]
  },
  {
   "cell_type": "markdown",
   "metadata": {},
   "source": [
    "# 8. Comparing Gender Gap Across Degree Categories"
   ]
  },
  {
   "cell_type": "markdown",
   "metadata": {},
   "source": [
    "## TODO:\n",
    "* Generate a line chart using the women and men percentages for Biology in the top left subplot.\n",
    "* Generate a line chart using the women and men percentages for Computer Science in the top right subplot.\n",
    "* Generate a line chart using the women and men percentages for Engineering in the bottom left subplot.\n",
    "* Generate a line chart using the women and men percentages for Math and Statistics in the bottom right subplot.\n",
    "* For all subplots:\n",
    "  * For the line chart visualizing female percentages, set the line color to \"blue\" and the label to \"Women\".\n",
    "  * For the line chart visualizing male percentages, set the line color to \"green\" and the label to \"Men\".\n",
    "  * Set the x-axis limit to range from 1968 to 2011.\n",
    "  * Set the y-axis limit to range from 0 to 100.\n",
    "  * Hide all of the spines and tick marks.\n",
    "  * Set the title of each subplot to the name of the major category (e.g. \"Biology\", \"Computer Science\").\n",
    "* Place a legend in the upper right corner of the bottom right subplot.\n",
    "* Display the plot."
   ]
  },
  {
   "cell_type": "code",
   "execution_count": null,
   "metadata": {},
   "outputs": [],
   "source": [
    "major_cats = ['Biology', 'Computer Science', 'Engineering', 'Math and Statistics']\n",
    "fig = plt.figure(figsize=(12, 12))\n",
    "\n",
    "for sp in range(0,4):\n",
    "    ax=fig.add_subplot(2,2,sp+1)\n",
    "    ax.plot(women_degrees['Year'],women_degrees[major_cats[sp]],c='blue',label='women')\n",
    "    ax.plot(women_degrees['Year'],100-women_degrees[major_cats[sp]],c='green',label='men')\n",
    "    ax.set_xlim(1968,2011)\n",
    "    ax.set_ylim(0,100)\n",
    "    ax.tick_params(top='false',bottom='false',left='false',right='false')\n",
    "    for key,spine in ax.spines.items():\n",
    "        spine.set_visible(False)\n",
    "    ax.set_title(major_cats[sp])\n",
    "    \n",
    "plt.legend(loc='upper left')"
   ]
  },
  {
   "cell_type": "markdown",
   "metadata": {},
   "source": [
    "By spending just a few seconds reading the chart, we can conclude that the gender gap in Computer Science and Engineering have big gender gaps while the gap in Biology and Math and Statistics is quite small. "
   ]
  }
 ],
 "metadata": {
  "kernelspec": {
   "display_name": "Python 3",
   "language": "python",
   "name": "python3"
  },
  "language_info": {
   "codemirror_mode": {
    "name": "ipython",
    "version": 3
   },
   "file_extension": ".py",
   "mimetype": "text/x-python",
   "name": "python",
   "nbconvert_exporter": "python",
   "pygments_lexer": "ipython3",
   "version": "3.7.3"
  }
 },
 "nbformat": 4,
 "nbformat_minor": 2
}
