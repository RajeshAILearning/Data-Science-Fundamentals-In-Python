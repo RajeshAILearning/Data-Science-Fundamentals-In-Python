{
 "cells": [
  {
   "cell_type": "markdown",
   "metadata": {},
   "source": [
    "## Rajesh's DS & AI Learning"
   ]
  },
  {
   "cell_type": "markdown",
   "metadata": {},
   "source": [
    "# 1. Introduction to Seaborn"
   ]
  },
  {
   "cell_type": "markdown",
   "metadata": {},
   "source": [
    "We'll be working with the seaborn visualization library, which is built on top of matplotlib. Seaborn has good support for more complex plots, attractive default styles, and integrates well with the pandas library. "
   ]
  },
  {
   "cell_type": "markdown",
   "metadata": {},
   "source": [
    "# 2. Introduction to the Data Set"
   ]
  },
  {
   "cell_type": "markdown",
   "metadata": {},
   "source": [
    "We'll be working with a data set of the passengers of the Titanic. The [Titanic shipwreck](https://en.wikipedia.org/wiki/Sinking_of_the_RMS_Titanic) is the most famous shipwreck in history and led to the creation of better safety regulations for ships. One substantial safety issue was that there were not enough lifeboats for every passenger on board, which meant that some passengers were prioritized over others to use the lifeboats."
   ]
  },
  {
   "cell_type": "markdown",
   "metadata": {},
   "source": [
    "## TODO:\n",
    "* Read train.csv into a DataFrame named titanic. Keep only the following columns:\n",
    "  * \"Survived\"\n",
    "  * \"Pclass\"\n",
    "  * \"Sex\"\n",
    "  * \"Age\"\n",
    "  * \"SibSp\"\n",
    "  * \"Parch\"\n",
    "  * \"Fare\"\n",
    "  * \"Embarked\"\n",
    "* Use the DataFrame.dropna() method to remove rows containing missing values."
   ]
  },
  {
   "cell_type": "code",
   "execution_count": 1,
   "metadata": {},
   "outputs": [],
   "source": [
    "import os\n",
    "\n",
    "# Define the name of your CSV file\n",
    "csv_filename = \"train.csv\"\n",
    "\n",
    "# Get the current directory of the Python script\n",
    "current_directory = os.getcwd()\n",
    "\n",
    "# Move back to the grandparent directory (two levels up)\n",
    "project_directory = os.path.dirname(os.path.dirname(current_directory))\n",
    "\n",
    "# Navigate to the \"datasets\" folder\n",
    "datasets_directory = os.path.join(project_directory, \"DataSets\")\n",
    "\n",
    "# Construct the full path to your CSV file\n",
    "csv_path = os.path.join(datasets_directory, csv_filename)\n",
    "\n",
    "# Check if the file exists\n",
    "if os.path.exists(csv_path):\n",
    "    print(\"CSV file found at:\", csv_path)\n",
    "else:\n",
    "    print(\"CSV file not found at:\", csv_path)\n",
    "\n",
    "import pandas as pd\n",
    "titanic=pd.read_csv(csv_path)"
   ]
  },
  {
   "cell_type": "code",
   "execution_count": null,
   "metadata": {},
   "outputs": [],
   "source": [
    "titanic.head()"
   ]
  },
  {
   "cell_type": "code",
   "execution_count": 3,
   "metadata": {},
   "outputs": [],
   "source": [
    "titanic=titanic[['Survived','Pclass','Sex','Age','SibSp','Parch','Fare','Embarked']].dropna()"
   ]
  },
  {
   "cell_type": "code",
   "execution_count": null,
   "metadata": {},
   "outputs": [],
   "source": [
    "titanic.head()"
   ]
  },
  {
   "cell_type": "markdown",
   "metadata": {},
   "source": [
    "# 3. Creating Histograms In Seaborn"
   ]
  },
  {
   "cell_type": "markdown",
   "metadata": {},
   "source": [
    " We can generate a histogram using the `seaborn.distplot()` function:"
   ]
  },
  {
   "cell_type": "markdown",
   "metadata": {},
   "source": [
    "## TODO:\n",
    "* Import seaborn as sns and matplotlib.pyplot as plt.\n",
    "* Use the seaborn.distplot() function to visualize the distribution of the \"Age\" column.\n",
    "* Display the plot using plt.show()."
   ]
  },
  {
   "cell_type": "code",
   "execution_count": null,
   "metadata": {},
   "outputs": [],
   "source": [
    "%matplotlib inline\n",
    "\n",
    "import seaborn as sns\n",
    "sns.distplot(titanic['Age'])"
   ]
  },
  {
   "cell_type": "markdown",
   "metadata": {},
   "source": [
    "# 4. Generating A Kernel Density Plot"
   ]
  },
  {
   "cell_type": "markdown",
   "metadata": {},
   "source": [
    " To generate just the kernel density plot, we use the seaborn.kdeplot() function:\n",
    "\n",
    "`sns.kdeplot(titanic[\"Age\"])`"
   ]
  },
  {
   "cell_type": "markdown",
   "metadata": {},
   "source": [
    "## TODO:\n",
    "* Generate a kernel density plot:\n",
    "  * Using the values in the \"Age\" column\n",
    "  * With the area under the curve shaded\n",
    "* Set the x-axis label to \"Age\" using pyplot.xlabel()."
   ]
  },
  {
   "cell_type": "code",
   "execution_count": null,
   "metadata": {},
   "outputs": [],
   "source": [
    "import matplotlib.pyplot as plt\n",
    "\n",
    "sns.kdeplot(titanic['Age'],shade=True)\n",
    "plt.xlabel('Age')"
   ]
  },
  {
   "cell_type": "markdown",
   "metadata": {},
   "source": [
    "# 5. Modifying The Appearance Of The Plots"
   ]
  },
  {
   "cell_type": "markdown",
   "metadata": {},
   "source": [
    "We can use the **`seaborn.set_style()`** function to change the default seaborn style sheet. Seaborn comes with a few style sheets:\n",
    "\n",
    "* darkgrid: Coordinate grid displayed, dark background color\n",
    "* whitegrid: Coordinate grid displayed, white background color\n",
    "* dark: Coordinate grid hidden, dark background color\n",
    "* white: Coordinate grid hidden, white background color\n",
    "* ticks: Coordinate grid hidden, white background color, ticks visible"
   ]
  },
  {
   "cell_type": "markdown",
   "metadata": {},
   "source": [
    "To remove the axis spines for the top and right axes, we use the **`seaborn.despine()`** function:\n",
    "\n",
    "To despine the other two axes, `we need to set the left and bottom parameters to True`."
   ]
  },
  {
   "cell_type": "markdown",
   "metadata": {},
   "source": [
    "## TODO:\n",
    "* Set the style to the style sheet that hides the coordinate grid and sets the background color to white.\n",
    "* Generate a kernel density plot of the \"Age\" column, with the area under the curve shaded.\n",
    "* Set the x-axis label to \"Age\".\n",
    "* Despine all of the axes."
   ]
  },
  {
   "cell_type": "code",
   "execution_count": null,
   "metadata": {},
   "outputs": [],
   "source": [
    "sns.set_style('white')\n",
    "sns.kdeplot(titanic['Age'],shade=True)\n",
    "plt.xlabel('Age')\n",
    "sns.despine(left=True,bottom=True)"
   ]
  },
  {
   "cell_type": "markdown",
   "metadata": {},
   "source": [
    "# 6. Conditional Distributions Using A Single Condition"
   ]
  },
  {
   "cell_type": "markdown",
   "metadata": {},
   "source": [
    "In the last few missions, we created a [small multiple](https://en.wikipedia.org/wiki/Small_multiple), which is a group of plots that have the same axis scales so the viewer can compare plots effectively. We accomplished this by subsetting the data manually and generating a plot using matplotlib for each one."
   ]
  },
  {
   "cell_type": "markdown",
   "metadata": {},
   "source": [
    "The `seaborn.FacetGrid object is used to represent the layout of the plots in the grid and the columns used for subsetting the data`. The word \"facet\" from FacetGrid is another word for \"subset\""
   ]
  },
  {
   "cell_type": "markdown",
   "metadata": {},
   "source": [
    "Once we've created the grid, we use the FacetGrid.map() method to specify the plot we want for each unique value of column."
   ]
  },
  {
   "cell_type": "markdown",
   "metadata": {},
   "source": [
    "## TODO:\n",
    "* Use a FacetGrid instance to generate three plots on the same row:\n",
    "  * One for each unique value of Pclass.\n",
    "  * Each plot should be a kernel density plot of the \"Age\" column, with the area under the curve shaded.\n",
    "  * Each plot should have a height of 6 inches.\n",
    "* Remove all of the spines using seaborn.despine().\n",
    "* Display the plots."
   ]
  },
  {
   "cell_type": "code",
   "execution_count": null,
   "metadata": {},
   "outputs": [],
   "source": [
    "s=sns.FacetGrid(titanic,col='Pclass',height=6)\n",
    "s.map(sns.kdeplot,'Age',shade=True)\n",
    "sns.despine(bottom=True,left=True)\n",
    "plt.show()"
   ]
  },
  {
   "cell_type": "markdown",
   "metadata": {},
   "source": [
    "# 7. Creating Conditional Plots Using Two Conditions"
   ]
  },
  {
   "cell_type": "markdown",
   "metadata": {},
   "source": [
    "We can use two conditions to generate a grid of plots, each containing a subset of the data with a unique combination of each condition. When creating a FacetGrid, we use the row parameter to specify the column in the dataframe we want used to subset across the rows in the grid."
   ]
  },
  {
   "cell_type": "code",
   "execution_count": null,
   "metadata": {},
   "outputs": [],
   "source": [
    "g = sns.FacetGrid(titanic, col=\"Survived\", row=\"Pclass\")\n",
    "g.map(sns.kdeplot, \"Age\", shade=True)\n",
    "sns.despine(left=True, bottom=True)\n",
    "plt.show()"
   ]
  },
  {
   "cell_type": "markdown",
   "metadata": {},
   "source": [
    "# 8. Creating Conditional Plots Using Three Conditions"
   ]
  },
  {
   "cell_type": "markdown",
   "metadata": {},
   "source": [
    "When subsetting data using two conditions, the `rows in the grid represented one condition` while the `columns represented another`. We can express a third condition by generating multiple plots on the same subplot in the grid and color them differently. Thankfully, we can add a condition just by setting the `hue parameter to the column name` from the dataframe."
   ]
  },
  {
   "cell_type": "code",
   "execution_count": null,
   "metadata": {},
   "outputs": [],
   "source": [
    "g = sns.FacetGrid(titanic, col=\"Survived\", row=\"Pclass\",hue='Sex',height=3)\n",
    "g.map(sns.kdeplot, \"Age\", shade=True)\n",
    "sns.despine(left=True, bottom=True)\n",
    "plt.show()"
   ]
  },
  {
   "cell_type": "markdown",
   "metadata": {},
   "source": [
    "# 9. Adding A Legend"
   ]
  },
  {
   "cell_type": "markdown",
   "metadata": {},
   "source": [
    "## TODO:\n",
    "\n",
    "* Use a FacetGrid instance to generate a grid of plots using the following conditions:\n",
    "  * The Survived column across the columns in the grid.\n",
    "  * The Pclass column across the rows in the grid.\n",
    "  * The Sex column using different hues.\n",
    "* Each plot should be a kernel density plot of the \"Age\" column, with the area under the curve shaded.\n",
    "* Each plot should have a height of 3 inches.\n",
    "* Add a legend for the hues representing the values in the Sex column.\n",
    "  * Make sure that you add your legend before despining.\n",
    "* Remove all of the spines using seaborn.despine().\n",
    "* Display the plots."
   ]
  },
  {
   "cell_type": "code",
   "execution_count": null,
   "metadata": {},
   "outputs": [],
   "source": [
    "s=sns.FacetGrid(titanic,col='Survived',row='Pclass',hue='Sex',height=3)\n",
    "s.map(sns.kdeplot,'Age',shade=True)\n",
    "s.add_legend()\n",
    "sns.despine(bottom=True,left=True)\n",
    "plt.show()"
   ]
  },
  {
   "cell_type": "markdown",
   "metadata": {},
   "source": [
    "In this mission, we learned how the seaborn library lets us quickly style plots and create small multiples using conditions we specify"
   ]
  }
 ],
 "metadata": {
  "kernelspec": {
   "display_name": "Python 3",
   "language": "python",
   "name": "python3"
  },
  "language_info": {
   "codemirror_mode": {
    "name": "ipython",
    "version": 3
   },
   "file_extension": ".py",
   "mimetype": "text/x-python",
   "name": "python",
   "nbconvert_exporter": "python",
   "pygments_lexer": "ipython3",
   "version": "3.7.3"
  }
 },
 "nbformat": 4,
 "nbformat_minor": 2
}
