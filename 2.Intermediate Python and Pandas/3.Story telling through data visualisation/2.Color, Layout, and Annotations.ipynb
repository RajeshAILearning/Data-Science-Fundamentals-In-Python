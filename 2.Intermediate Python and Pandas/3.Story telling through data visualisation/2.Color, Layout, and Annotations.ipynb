{
 "cells": [
  {
   "cell_type": "markdown",
   "metadata": {},
   "source": [
    "## Rajesh's DS & AI Learning"
   ]
  },
  {
   "cell_type": "markdown",
   "metadata": {},
   "source": [
    "# 1. Introduction"
   ]
  },
  {
   "cell_type": "markdown",
   "metadata": {},
   "source": [
    "In the previous mission, we learned some basic techniques and principles for making our plots more aesthetic. `In this mission, we'll focus more directly on customizing colors, line widths, layout, and annotations to improve the ability for a viewer to extract insights from the charts`. We'll continue to use the same data set containing the percentage of bachelor's degrees granted to women from 1970 to 2012"
   ]
  },
  {
   "cell_type": "markdown",
   "metadata": {},
   "source": [
    "## from previous mission"
   ]
  },
  {
   "cell_type": "code",
   "execution_count": null,
   "metadata": {},
   "outputs": [],
   "source": [
    "import os\n",
    "\n",
    "# Define the name of your CSV file\n",
    "csv_filename = \"percent-bachelors-degrees-women-usa.csv\"\n",
    "\n",
    "# Get the current directory of the Python script\n",
    "current_directory = os.getcwd()\n",
    "\n",
    "# Move back to the grandparent directory (two levels up)\n",
    "project_directory = os.path.dirname(os.path.dirname(current_directory))\n",
    "\n",
    "# Navigate to the \"datasets\" folder\n",
    "datasets_directory = os.path.join(project_directory, \"DataSets\")\n",
    "\n",
    "# Construct the full path to your CSV file\n",
    "csv_path = os.path.join(datasets_directory, csv_filename)\n",
    "\n",
    "# Check if the file exists\n",
    "if os.path.exists(csv_path):\n",
    "    print(\"CSV file found at:\", csv_path)\n",
    "else:\n",
    "    print(\"CSV file not found at:\", csv_path)\n",
    "    \n",
    "import pandas as pd\n",
    "import matplotlib.pyplot as plt\n",
    "%matplotlib inline\n",
    "\n",
    "women_degrees = pd.read_csv(csv_path)\n",
    "major_cats = ['Biology', 'Computer Science', 'Engineering', 'Math and Statistics']\n",
    "\n",
    "fig = plt.figure(figsize=(12, 12))\n",
    "\n",
    "for sp in range(0,4):\n",
    "    ax = fig.add_subplot(2,2,sp+1)\n",
    "    ax.plot(women_degrees['Year'], women_degrees[major_cats[sp]], c='blue', label='Women')\n",
    "    ax.plot(women_degrees['Year'], 100-women_degrees[major_cats[sp]], c='green', label='Men')\n",
    "    for key,spine in ax.spines.items():\n",
    "        spine.set_visible(False)\n",
    "    ax.set_xlim(1968, 2011)\n",
    "    ax.set_ylim(0,100)\n",
    "    ax.set_title(major_cats[sp])\n",
    "    ax.tick_params(bottom=False, top=False, left=False, right=False)\n",
    "\n",
    "plt.legend(loc='upper right')\n",
    "plt.show()"
   ]
  },
  {
   "cell_type": "markdown",
   "metadata": {},
   "source": [
    "# 2. Color"
   ]
  },
  {
   "cell_type": "markdown",
   "metadata": {},
   "source": [
    "So far, we've been using the [default matplotlib colors](https://matplotlib.org/api/colors_api.html#module-matplotlib.colors) to color the lines in line charts.` When selecting colors, we need to be mindful of people who have some amount of` [color blindness](https://en.wikipedia.org/wiki/Color_blindness). `People who have color blindness have a decreased ability to distinguish between certain kinds of colors.` The most common form of color blindness is red-green color blindness, where the person can't distinguish between red and green shades. Approximately 8% of men and 0.5% of women of Northern European descent suffer from red-green color blindness.\n",
    "\n",
    "The [Ishihara test](https://en.wikipedia.org/wiki/Ishihara_test) is a well known test for color blindness, where the person is asked to identify the number in the following image"
   ]
  },
  {
   "cell_type": "code",
   "execution_count": null,
   "metadata": {},
   "outputs": [],
   "source": [
    "from IPython.display import Image\n",
    "Image(url='https://s3.amazonaws.com/dq-content/ishihara_test.png')"
   ]
  },
  {
   "cell_type": "markdown",
   "metadata": {},
   "source": [
    "People with complete color vision can observe the number 74. Some with partial color blindness see the number 21 instead and those with full color blindness can't see any number at all."
   ]
  },
  {
   "cell_type": "markdown",
   "metadata": {},
   "source": [
    "# 3. Setting Line Color Using RGB"
   ]
  },
  {
   "cell_type": "markdown",
   "metadata": {},
   "source": [
    "The Color Blind 10 palette contains ten colors that are colorblind friendly"
   ]
  },
  {
   "cell_type": "code",
   "execution_count": null,
   "metadata": {},
   "outputs": [],
   "source": [
    "from IPython.display import Image\n",
    "Image(url='https://s3.amazonaws.com/dq-content/tableau_rgb_values.png')"
   ]
  },
  {
   "cell_type": "markdown",
   "metadata": {},
   "source": [
    "* These numbers represent the RGB values for each color. The [RGB color model](https://en.wikipedia.org/wiki/RGB_color_model) describes how the three primary colors (red, green, and blue) can be combined in different proportions to form any secondary color\n",
    "*  In computers, each RGB value can range between 0 and 255. This is because 256 integer values can be represented using 8 bits. You can read more about 8-bit color [here](https://en.wikipedia.org/wiki/8-bit_color).\n",
    "* **To specify a line color using RGB values, we pass in a tuple of the values to the c parameter when we generate the line chart. Matplotlib expects each value to be scaled down and to range between 0 and 1 (not 0 and 255)**"
   ]
  },
  {
   "cell_type": "markdown",
   "metadata": {},
   "source": [
    "## TODO:\n",
    "* Modify the starter(above) code to:\n",
    "  * Set the line color for the line charts visualizing women percentages to the dark blue color from the Color Blind 10 palette (RGB value of (0, 107, 164)). \n",
    "  * Set the line color for the line charts visualizing men percentages to the orange color from the Color Blind 10 palette (RGB value of (255, 128, 14)).\n",
    "* Display the figure after you've made these changes."
   ]
  },
  {
   "cell_type": "code",
   "execution_count": null,
   "metadata": {},
   "outputs": [],
   "source": [
    "major_cat=['Biology','Computer Science','Engineering','Math and Statistics']\n",
    "fig=plt.figure(figsize=(12,12))\n",
    "\n",
    "cb_dark_blue = (0/255, 107/255, 164/255)\n",
    "cb_orange = (255/255, 128/255, 14/255)\n",
    "\n",
    "for i in range(0,4):\n",
    "    ax=fig.add_subplot(2,2,i+1)\n",
    "    ax.plot(women_degrees['Year'],women_degrees[major_cats[i]],c=cb_dark_blue,label='women')\n",
    "    ax.plot(women_degrees['Year'],100-women_degrees[major_cats[i]],c=cb_orange,label='man')\n",
    "    \n",
    "    ax.tick_params(top=False,bottom=False,left=False,right=False)\n",
    "    ax.set_xlim(1968,2011)\n",
    "    ax.set_ylim(0,100)\n",
    "    ax.set_title(major_cat[i])\n",
    "    for key,spine in ax.spines.items():\n",
    "        spine.set_visible(False)\n",
    "        \n",
    "plt.legend(loc='upper left')"
   ]
  },
  {
   "cell_type": "markdown",
   "metadata": {},
   "source": [
    "# 4. Setting Line Width"
   ]
  },
  {
   "cell_type": "markdown",
   "metadata": {},
   "source": [
    "By default, the actual lines reflecting the underlying data in the line charts we've been generating are quite thin. The white color in the blank area in the line charts is still a dominating color. To emphasize the lines in the plots, we can increase the width of each line. Increasing the line width also improves the data-ink ratio a little bit, because more of the chart area is used to showcase the data."
   ]
  },
  {
   "cell_type": "markdown",
   "metadata": {},
   "source": [
    "When we call the Axes.plot() method, we can use the `linewidth` parameter to specify the line width"
   ]
  },
  {
   "cell_type": "markdown",
   "metadata": {},
   "source": [
    "## TODO:\n",
    "Modify the starter code to set the line widths for both line charts to 3."
   ]
  },
  {
   "cell_type": "code",
   "execution_count": null,
   "metadata": {},
   "outputs": [],
   "source": [
    "major_cat=['Biology','Computer Science','Engineering','Math and Statistics']\n",
    "fig=plt.figure(figsize=(12,12))\n",
    "\n",
    "cb_dark_blue = (0/255, 107/255, 164/255)\n",
    "cb_orange = (255/255, 128/255, 14/255)\n",
    "\n",
    "for i in range(0,4):\n",
    "    ax=fig.add_subplot(2,2,i+1)\n",
    "    ax.plot(women_degrees['Year'],women_degrees[major_cats[i]],c=cb_dark_blue,label='women',linewidth=3)\n",
    "    ax.plot(women_degrees['Year'],100-women_degrees[major_cats[i]],c=cb_orange,label='man',linewidth=3)\n",
    "    \n",
    "    ax.tick_params(top=False,bottom=False,left=False,right=False)\n",
    "    ax.set_xlim(1968,2011)\n",
    "    ax.set_ylim(0,100)\n",
    "    ax.set_title(major_cat[i])\n",
    "    for key,spine in ax.spines.items():\n",
    "        spine.set_visible(False)\n",
    "        \n",
    "plt.legend(loc='upper left')"
   ]
  },
  {
   "cell_type": "markdown",
   "metadata": {},
   "source": [
    "# 5. Improve the Layout and Ordering"
   ]
  },
  {
   "cell_type": "markdown",
   "metadata": {},
   "source": [
    "So far, we've been generating our line charts on a 2 by 2 subplot grid. If we wanted to visualize all six STEM degrees, we'd need to either add a new column or a new row. Unfortunately, neither solution orders the plots in a beneficial way to the viewer. By scanning horizontally or vertically, a viewer isn't able to learn any new information and this can cause some frustration as the viewer's gaze jumps around the image."
   ]
  },
  {
   "cell_type": "markdown",
   "metadata": {},
   "source": [
    "In this exercise, you'll order the charts by decreasing ending gender gap. We've populated the list stem_cats with the six STEM degree categories, ordering them by decreasing ending gender gap. "
   ]
  },
  {
   "cell_type": "code",
   "execution_count": 6,
   "metadata": {},
   "outputs": [],
   "source": [
    "stem_cats = ['Engineering', 'Computer Science', 'Psychology', 'Biology', 'Physical Sciences', 'Math and Statistics']"
   ]
  },
  {
   "cell_type": "markdown",
   "metadata": {},
   "source": [
    "## TODO:\n",
    "Modify the starter code to:\n",
    "* Change the width of the figure to a width of 18 inches and a height of 3 inches.\n",
    "* In the for loop, change the range to (0,6) instead of (0,4).\n",
    "* Change the subplot layout from 2 rows by 2 columns to 1 row by 6 columns.\n",
    "* Use stem_cats instead of major_cats when generating and setting the titles for the line charts."
   ]
  },
  {
   "cell_type": "code",
   "execution_count": null,
   "metadata": {},
   "outputs": [],
   "source": [
    "fig=plt.figure(figsize=(18,3))\n",
    "\n",
    "cb_dark_blue = (0/255, 107/255, 164/255)\n",
    "cb_orange = (255/255, 128/255, 14/255)\n",
    "\n",
    "for i in range(0,6):\n",
    "    ax=fig.add_subplot(1,6,i+1)\n",
    "    ax.plot(women_degrees['Year'],women_degrees[stem_cats[i]],c=cb_dark_blue,label='women',linewidth=3)\n",
    "    ax.plot(women_degrees['Year'],100-women_degrees[stem_cats[i]],c=cb_orange,label='man',linewidth=3)\n",
    "    \n",
    "    ax.tick_params(top=False,bottom=False,left=False,right=False)\n",
    "    ax.set_xlim(1968,2011)\n",
    "    ax.set_ylim(0,100)\n",
    "    ax.set_title(stem_cats[i])\n",
    "    for key,spine in ax.spines.items():\n",
    "        spine.set_visible(False)\n",
    "        \n",
    "plt.legend(loc='upper left')"
   ]
  },
  {
   "cell_type": "markdown",
   "metadata": {},
   "source": [
    "# 6. Replacing the Legend With Annotations"
   ]
  },
  {
   "cell_type": "markdown",
   "metadata": {},
   "source": [
    "The purpose of a legend is to ascribe meaning to symbols or colors in a chart. We're using it to inform the viewer of what gender corresponds to each color. Tufte encourages removing legends entirely if the same information can be conveyed in a cleaner way. Legends consist of non-data ink and take up precious space that could be used for the visualizations themselves (data-ink)."
   ]
  },
  {
   "cell_type": "markdown",
   "metadata": {},
   "source": [
    "Instead of trying to move the legend to a better location, we can replace it entirely by annotating the lines directly with the corresponding genders"
   ]
  },
  {
   "cell_type": "markdown",
   "metadata": {},
   "source": [
    "# 7. Annotating in Matplotlib"
   ]
  },
  {
   "cell_type": "markdown",
   "metadata": {},
   "source": [
    "## TODO:\n",
    "* To add text annotations to a matplotlib plot, we use the `Axes.text()` method. This method has a few required parameters:\n",
    "\n",
    "  * x: x-axis coordinate (as a float)\n",
    "  * y: y-axis coordinate (as a float)\n",
    "  * s: the text we want in the annotation (as a string value)"
   ]
  },
  {
   "cell_type": "markdown",
   "metadata": {},
   "source": [
    "## TODO:\n",
    "* Add the following text annotations in the leftmost chart:\n",
    "  * The string \"Men\" at the x-axis coordinate of 2005 and the y-axis coordinate of 87.\n",
    "  * The string \"Women\" at the x-axis coordinate of 2002 and the y-axis coordinate of 8.\n",
    "* Add the following text annotations in the rightmost chart:\n",
    "  * The string \"Men\" at the x-axis coordinate of 2005 and the y-axis coordinate of 62.\n",
    "  * The string \"Women\" at the x-axis coordinate of 2001 and the y-axis coordinate of 35.\n",
    "* Remove the legend."
   ]
  },
  {
   "cell_type": "code",
   "execution_count": null,
   "metadata": {},
   "outputs": [],
   "source": [
    "fig=plt.figure(figsize=(18,3))\n",
    "\n",
    "cb_dark_blue = (0/255, 107/255, 164/255)\n",
    "cb_orange = (255/255, 128/255, 14/255)\n",
    "\n",
    "for i in range(0,6):\n",
    "    ax=fig.add_subplot(1,6,i+1)\n",
    "    ax.plot(women_degrees['Year'],women_degrees[stem_cats[i]],c=cb_dark_blue,linewidth=3)\n",
    "    ax.plot(women_degrees['Year'],100-women_degrees[stem_cats[i]],c=cb_orange,linewidth=3)\n",
    "    \n",
    "    ax.tick_params(top=False,bottom=False,left=False,right=False)\n",
    "    ax.set_xlim(1968,2011)\n",
    "    ax.set_ylim(0,100)\n",
    "    ax.set_title(stem_cats[i])\n",
    "    for key,spine in ax.spines.items():\n",
    "        spine.set_visible(False)\n",
    "        \n",
    "    if i == 0:\n",
    "        ax.text(2005, 87, 'Men')\n",
    "        ax.text(2002, 8, 'Women')\n",
    "    elif i == 5:\n",
    "        ax.text(2005, 62, 'Men')\n",
    "        ax.text(2001, 35, 'Women')\n",
    "        "
   ]
  },
  {
   "cell_type": "markdown",
   "metadata": {},
   "source": [
    "In this mission, we learned how to improve the viewing experience by making our plots more color-blind friendly and thickening the line widths. We then explored how to use the layout and ordering of the plots as well annotations directly onto the plots to enhance the story that's being told to the viewer."
   ]
  }
 ],
 "metadata": {
  "kernelspec": {
   "display_name": "Python 3",
   "language": "python",
   "name": "python3"
  },
  "language_info": {
   "codemirror_mode": {
    "name": "ipython",
    "version": 3
   },
   "file_extension": ".py",
   "mimetype": "text/x-python",
   "name": "python",
   "nbconvert_exporter": "python",
   "pygments_lexer": "ipython3",
   "version": "3.7.3"
  }
 },
 "nbformat": 4,
 "nbformat_minor": 2
}
