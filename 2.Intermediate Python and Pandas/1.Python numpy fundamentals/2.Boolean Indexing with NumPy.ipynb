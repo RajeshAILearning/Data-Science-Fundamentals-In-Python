{
 "cells": [
  {
   "cell_type": "markdown",
   "metadata": {},
   "source": [
    "## Rajesh's DS & AI Learning"
   ]
  },
  {
   "cell_type": "markdown",
   "metadata": {},
   "source": [
    "# 1. Reading CSV files with NumPy"
   ]
  },
  {
   "cell_type": "markdown",
   "metadata": {},
   "source": [
    "* We learned that NumPy makes it quick and easy to select data, and includes a number of functions and methods that make it easy to calculate statistics across the different axes (or dimensions).\n",
    "\n",
    "* However, what if we also wanted to find out how many trips were taken in each month? Or which airport is the busiest? For this, we will learn a new technique: Boolean Indexing."
   ]
  },
  {
   "cell_type": "markdown",
   "metadata": {},
   "source": [
    "* Use the `numpy.genfromtxt()` function to read files into NumPy ndarrays from csv"
   ]
  },
  {
   "cell_type": "markdown",
   "metadata": {},
   "source": [
    "* `np.genfromtxt(filename, delimiter=None)`\n",
    "* filename: A positional argument, usually a string representing the path to the text file to be read.\n",
    "* delimiter: A named argument, specifying the string used to separate each value."
   ]
  },
  {
   "cell_type": "code",
   "execution_count": 1,
   "metadata": {},
   "outputs": [],
   "source": [
    "import os\n",
    "\n",
    "# Define the name of your CSV file\n",
    "csv_filename = \"nyc_taxis.csv\"\n",
    "\n",
    "# Get the current directory of the Python script\n",
    "current_directory = os.getcwd()\n",
    "\n",
    "# Move back to the grandparent directory (two levels up)\n",
    "project_directory = os.path.dirname(os.path.dirname(current_directory))\n",
    "\n",
    "# Navigate to the \"datasets\" folder\n",
    "datasets_directory = os.path.join(project_directory, \"DataSets\")\n",
    "\n",
    "# Construct the full path to your CSV file\n",
    "csv_path = os.path.join(datasets_directory, csv_filename)\n",
    "\n",
    "# Check if the file exists\n",
    "if os.path.exists(csv_path):\n",
    "    print(\"CSV file found at:\", csv_path)\n",
    "else:\n",
    "    print(\"CSV file not found at:\", csv_path)\n",
    "    \n",
    "import numpy as np \n",
    "taxi=np.genfromtxt(csv_path,delimiter=',')"
   ]
  },
  {
   "cell_type": "code",
   "execution_count": null,
   "metadata": {},
   "outputs": [],
   "source": [
    "taxi_shape=taxi.shape\n",
    "print(taxi_shape)"
   ]
  },
  {
   "cell_type": "markdown",
   "metadata": {},
   "source": [
    "# 2. Reading CSV files with NumPy Continued"
   ]
  },
  {
   "cell_type": "markdown",
   "metadata": {},
   "source": [
    "*  when numpy.genfromtxt() reads in a file, it attempts to determine the data type of the file by looking at the values."
   ]
  },
  {
   "cell_type": "code",
   "execution_count": null,
   "metadata": {},
   "outputs": [],
   "source": [
    "taxi.dtype"
   ]
  },
  {
   "cell_type": "code",
   "execution_count": null,
   "metadata": {},
   "outputs": [],
   "source": [
    "print(taxi[:4])"
   ]
  },
  {
   "cell_type": "markdown",
   "metadata": {},
   "source": [
    "NaN is an acronym for Not a Number - it literally means that the value cannot be stored as a number. It is similar to (and often referred to as a) null value, like Python's None constant."
   ]
  },
  {
   "cell_type": "markdown",
   "metadata": {},
   "source": [
    "* NaN is most commonly seen when a value is missing, but in this case, we have NaN values because the first line from our CSV file contains the names of each column. NumPy is unable to convert string values like pickup_year into the float64 data type."
   ]
  },
  {
   "cell_type": "markdown",
   "metadata": {},
   "source": [
    "* For now, we need to remove this header row from our ndarray. \n",
    "* Alternatively, we can pass an additional parameter, skip_header, to the numpy.genfromtxt() function. The skip_header parameter accepts an integer, the number of rows from the start of the file to skip.\n",
    "* Note that because this integer should be the number of rows and not the index, skipping the first row would require a value of 1, not 0."
   ]
  },
  {
   "cell_type": "code",
   "execution_count": 5,
   "metadata": {},
   "outputs": [],
   "source": [
    "taxi=np.genfromtxt('nyc_taxis.csv',delimiter=',',skip_header=1)"
   ]
  },
  {
   "cell_type": "code",
   "execution_count": null,
   "metadata": {},
   "outputs": [],
   "source": [
    "taxi.shape"
   ]
  },
  {
   "cell_type": "markdown",
   "metadata": {},
   "source": [
    "# 3. Boolean Arrays"
   ]
  },
  {
   "cell_type": "markdown",
   "metadata": {},
   "source": [
    "* A boolean array, as the name suggests, is an array of boolean values. Boolean arrays are sometimes called boolean vectors or boolean masks."
   ]
  },
  {
   "cell_type": "code",
   "execution_count": null,
   "metadata": {},
   "outputs": [],
   "source": [
    "a = np.array([1, 2, 3, 4, 5])\n",
    "a_bool=a<3\n",
    "a_bool"
   ]
  },
  {
   "cell_type": "code",
   "execution_count": null,
   "metadata": {},
   "outputs": [],
   "source": [
    "print(a[a_bool])"
   ]
  },
  {
   "cell_type": "markdown",
   "metadata": {},
   "source": [
    "# 4. Boolean Indexing with 1D ndarrays"
   ]
  },
  {
   "cell_type": "markdown",
   "metadata": {},
   "source": [
    "**The boolean array acts as a filter, so that the values corresponding to True become part of the result and the values corresponding to False are removed.**"
   ]
  },
  {
   "cell_type": "markdown",
   "metadata": {},
   "source": [
    "**(1)use boolean indexing to confirm the number of taxi rides in our data set from the month of January.**"
   ]
  },
  {
   "cell_type": "code",
   "execution_count": null,
   "metadata": {},
   "outputs": [],
   "source": [
    "pickup_month=taxi[:,1]\n",
    "print(pickup_month[:10])"
   ]
  },
  {
   "cell_type": "code",
   "execution_count": 16,
   "metadata": {},
   "outputs": [],
   "source": [
    "january_bool=pickup_month==1"
   ]
  },
  {
   "cell_type": "code",
   "execution_count": null,
   "metadata": {},
   "outputs": [],
   "source": [
    "january_pickups=pickup_month[january_bool]\n",
    "print(january_pickups[:15])"
   ]
  },
  {
   "cell_type": "markdown",
   "metadata": {},
   "source": [
    "**no of rides in january**"
   ]
  },
  {
   "cell_type": "code",
   "execution_count": null,
   "metadata": {},
   "outputs": [],
   "source": [
    "january_pickups.shape"
   ]
  },
  {
   "cell_type": "markdown",
   "metadata": {},
   "source": [
    "**13481 rides in january**"
   ]
  },
  {
   "cell_type": "markdown",
   "metadata": {},
   "source": [
    "**(2)use boolean indexing to confirm the number of taxi rides in our data set from the month of December.**"
   ]
  },
  {
   "cell_type": "code",
   "execution_count": null,
   "metadata": {},
   "outputs": [],
   "source": [
    "december_bool=pickup_month==float(12)\n",
    "december_rides=pickup_month[december_bool]\n",
    "print(december_rides[:4])"
   ]
  },
  {
   "cell_type": "code",
   "execution_count": null,
   "metadata": {},
   "outputs": [],
   "source": [
    "december_rides.shape"
   ]
  },
  {
   "cell_type": "markdown",
   "metadata": {},
   "source": [
    "**(3)use boolean indexing to confirm the number of taxi rides in our data set from the month of June.**"
   ]
  },
  {
   "cell_type": "code",
   "execution_count": null,
   "metadata": {},
   "outputs": [],
   "source": [
    "june_bool=pickup_month==6\n",
    "june_rides=pickup_month[june_bool]\n",
    "print(june_rides[:5])"
   ]
  },
  {
   "cell_type": "code",
   "execution_count": null,
   "metadata": {},
   "outputs": [],
   "source": [
    "june_rides.shape"
   ]
  },
  {
   "cell_type": "markdown",
   "metadata": {},
   "source": [
    "**15739 rides in June**"
   ]
  },
  {
   "cell_type": "markdown",
   "metadata": {},
   "source": [
    "# 5. Boolean Indexing with 2D ndarrays"
   ]
  },
  {
   "cell_type": "markdown",
   "metadata": {},
   "source": [
    "* When working with 2D ndarrays, you can use boolean indexing in combination with any of the indexing methods.`The only limitation is that the boolean array must have the same length as the dimension you're indexing.`"
   ]
  },
  {
   "cell_type": "code",
   "execution_count": null,
   "metadata": {},
   "outputs": [],
   "source": [
    "# calculate the average speed\n",
    "trip_mph = taxi[:,7] / (taxi[:,8] / 3600)\n",
    "print(trip_mph.max())"
   ]
  },
  {
   "cell_type": "code",
   "execution_count": null,
   "metadata": {},
   "outputs": [],
   "source": [
    "# create a boolean array for trips with average\n",
    "# speeds greater than 20,000 mph\n",
    "trip_mph_bool = trip_mph > 20000\n",
    "\n",
    "# use the boolean array to select the rows for\n",
    "# those trips, and the pickup_location_code,\n",
    "# dropoff_location_code, trip_distance, and\n",
    "# trip_length columns\n",
    "trips_over_20000_mph = taxi[trip_mph_bool,5:9]\n",
    "\n",
    "print(trips_over_20000_mph)"
   ]
  },
  {
   "cell_type": "markdown",
   "metadata": {},
   "source": [
    "* We can see from the last column that most of these are very short rides - all have trip_length values of 4 or less seconds, which does not reconcile with the trip distances, all of which are more than 16 miles."
   ]
  },
  {
   "cell_type": "markdown",
   "metadata": {},
   "source": [
    "**(2)examine the rows that have the highest values for the tip_amount column.**"
   ]
  },
  {
   "cell_type": "code",
   "execution_count": 30,
   "metadata": {},
   "outputs": [],
   "source": [
    "tip_amount = taxi[:,12]\n",
    "tip_bool=tip_amount>50\n",
    "top_tips=taxi[tip_bool,5:14]"
   ]
  },
  {
   "cell_type": "code",
   "execution_count": null,
   "metadata": {},
   "outputs": [],
   "source": [
    "top_tips[:3]"
   ]
  },
  {
   "cell_type": "markdown",
   "metadata": {},
   "source": [
    "# 6. Assigning Values in ndarrays"
   ]
  },
  {
   "cell_type": "markdown",
   "metadata": {},
   "source": [
    "`ndarray[location_of_values] = new_value`"
   ]
  },
  {
   "cell_type": "markdown",
   "metadata": {},
   "source": [
    "### TO DO:\n",
    "* (1) The value at column index 5 (pickup_location) of row index 28214 is incorrect. Use assignment to change this value to 1          in the taxi_modified ndarray.\n",
    "* (2) The first column (index 0) contains year values as four digit numbers in the format YYYY (2016, since all trips in our          data set are from 2016). Use assignment to change these values to the YY format (16) in the taxi_modified ndarray.\n",
    "* (3) The values at column index 7 (trip_distance) of rows index 1800 and 1801 are incorrect. Use assignment to change these          values in the taxi_modified ndarray to the mean value for that column."
   ]
  },
  {
   "cell_type": "code",
   "execution_count": 33,
   "metadata": {},
   "outputs": [],
   "source": [
    "taxi_modified=taxi.copy()"
   ]
  },
  {
   "cell_type": "code",
   "execution_count": 34,
   "metadata": {},
   "outputs": [],
   "source": [
    "# updating specific item\n",
    "\n",
    "taxi_modified[28214,5]=1"
   ]
  },
  {
   "cell_type": "code",
   "execution_count": 35,
   "metadata": {},
   "outputs": [],
   "source": [
    "# updating whole column\n",
    "\n",
    "taxi_modified[:,0]=16"
   ]
  },
  {
   "cell_type": "code",
   "execution_count": 36,
   "metadata": {},
   "outputs": [],
   "source": [
    "# updating slice of data\n",
    "\n",
    "taxi_modified[1800:1802,7]=taxi_modified[:,7].mean()"
   ]
  },
  {
   "cell_type": "markdown",
   "metadata": {},
   "source": [
    "# 7. Assignment Using Boolean Arrays"
   ]
  },
  {
   "cell_type": "markdown",
   "metadata": {},
   "source": [
    "* Boolean arrays become very powerful when we use them for assignment."
   ]
  },
  {
   "cell_type": "markdown",
   "metadata": {},
   "source": [
    "**The boolean array controls the values that the assignment applies to, and the other values remain unchanged.**"
   ]
  },
  {
   "cell_type": "markdown",
   "metadata": {},
   "source": [
    "### TO DO:\n",
    "* select the fourteenth column (index 13) in taxi_copy. Assign it to a variable named total_amount.\n",
    "* For rows where the value of total_amount is less than 0, use assignment to change the value to 0"
   ]
  },
  {
   "cell_type": "code",
   "execution_count": 39,
   "metadata": {},
   "outputs": [],
   "source": [
    "taxi_copy=taxi.copy()\n",
    "\n",
    "total_amount=taxi_copy[:,13]\n",
    "taxi_copy[total_amount<0]=0\n",
    "\n",
    "\n",
    "## short way\n",
    "taxi_copy[taxi_copy[:,13]<0]=0"
   ]
  },
  {
   "cell_type": "markdown",
   "metadata": {},
   "source": [
    "# 8. Assignment Using Boolean Arrays Continued"
   ]
  },
  {
   "cell_type": "markdown",
   "metadata": {},
   "source": [
    "`bool = array[:, column_for_comparison] == value_for_comparison\n",
    "array[bool, column_for_assignment] = new_value`"
   ]
  },
  {
   "cell_type": "markdown",
   "metadata": {},
   "source": [
    "#### In one line\n",
    "`array[array[:, column_for_comparison] == value_for_comparison, column_for_assignment] = new_value`"
   ]
  },
  {
   "cell_type": "markdown",
   "metadata": {},
   "source": [
    "## TO DO:\n",
    "We have created a new copy of our taxi dataset, taxi_modified with an additional column containing the value 0 for every row.\n",
    "\n",
    "* In our new column at index 15, assign the value 1 if the pickup_location_code (column index 5) corresponds to an airport location, leaving the value as 0 otherwise by performing these three operations:\n",
    "* For rows where the value for the column index 5 is equal to 2 (JFK Airport), assign the value 1 to column index 15.\n",
    "* For rows where the value for the column index 5 is equal to 3 (LaGuardia Airport), assign the value 1 to column index 15.\n",
    "* For rows where the value for the column index 5 is equal to 5 (Newark Airport), assign the value 1 to column index 15."
   ]
  },
  {
   "cell_type": "code",
   "execution_count": 44,
   "metadata": {},
   "outputs": [],
   "source": [
    "taxi_modified=taxi.copy()\n",
    "\n",
    "# create a new column filled with `0`.\n",
    "import numpy as np \n",
    "zeros = np.zeros([taxi.shape[0], 1])\n",
    "taxi_modified = np.concatenate([taxi, zeros], axis=1)"
   ]
  },
  {
   "cell_type": "code",
   "execution_count": null,
   "metadata": {},
   "outputs": [],
   "source": [
    "print(taxi_modified)"
   ]
  },
  {
   "cell_type": "code",
   "execution_count": 46,
   "metadata": {},
   "outputs": [],
   "source": [
    "taxi_modified[taxi_modified[:,5]==2,15]=1\n",
    "taxi_modified[taxi_modified[:,5]==3,15]=1\n",
    "taxi_modified[taxi_modified[:,5]==5,15]=1"
   ]
  },
  {
   "cell_type": "markdown",
   "metadata": {},
   "source": [
    "# 9. Challenge: Which is the most popular airport?"
   ]
  },
  {
   "cell_type": "markdown",
   "metadata": {},
   "source": [
    "### To complete this task, we'll need to check if the dropoff_location_code column (column index 6) is equal to one of the following values:\n",
    "\n",
    "* 2: JFK Airport\n",
    "* 3: LaGuardia Airport\n",
    "* 5: Newark Airport."
   ]
  },
  {
   "cell_type": "code",
   "execution_count": 47,
   "metadata": {},
   "outputs": [],
   "source": [
    "jfk=taxi[taxi[:,6]==2]\n",
    "LaG=taxi[taxi[:,6]==3]\n",
    "Newark=taxi[taxi[:,6]==5]"
   ]
  },
  {
   "cell_type": "code",
   "execution_count": null,
   "metadata": {},
   "outputs": [],
   "source": [
    "jfk.shape[0]"
   ]
  },
  {
   "cell_type": "code",
   "execution_count": null,
   "metadata": {},
   "outputs": [],
   "source": [
    "LaG.shape[0]"
   ]
  },
  {
   "cell_type": "code",
   "execution_count": null,
   "metadata": {},
   "outputs": [],
   "source": [
    "Newark.shape[0]"
   ]
  },
  {
   "cell_type": "markdown",
   "metadata": {},
   "source": [
    "### Observation:\n",
    "LaGuardia Airport is most popular airport"
   ]
  },
  {
   "cell_type": "markdown",
   "metadata": {},
   "source": [
    "# 10. Challenge: Calculating Statistics for Trips on Clean Data"
   ]
  },
  {
   "cell_type": "markdown",
   "metadata": {},
   "source": [
    "#### The columns we're interested in are:\n",
    "\n",
    "* trip_distance, at column index 7\n",
    "* trip_length, at column index 8\n",
    "* total_amount, at column index 13"
   ]
  },
  {
   "cell_type": "code",
   "execution_count": 53,
   "metadata": {},
   "outputs": [],
   "source": [
    "# Calculate trip per miles\n",
    "trip_mph = taxi[:,7] / (taxi[:,8] / 3600)"
   ]
  },
  {
   "cell_type": "markdown",
   "metadata": {},
   "source": [
    "### TO DO:\n",
    "* Create a new ndarray, cleaned_taxi, containing only rows for which the values of trip_mph are less than 100.\n",
    "* Calculate the mean of the trip_distance column of cleaned_taxi. Assign the result to mean_distance.\n",
    "* Calculate the mean of the trip_length column of cleaned_taxi. Assign the result to mean_length.\n",
    "* Calculate the mean of the total_amount column of cleaned_taxi. Assign the result to mean_total_amount."
   ]
  },
  {
   "cell_type": "code",
   "execution_count": null,
   "metadata": {},
   "outputs": [],
   "source": [
    "cleaned_taxi=taxi[trip_mph<100]\n",
    "\n",
    "mean_distance=cleaned_taxi[:,7].mean()\n",
    "mean_distance"
   ]
  },
  {
   "cell_type": "code",
   "execution_count": null,
   "metadata": {},
   "outputs": [],
   "source": [
    "mean_length=cleaned_taxi[:,8].mean()\n",
    "mean_length"
   ]
  },
  {
   "cell_type": "code",
   "execution_count": null,
   "metadata": {},
   "outputs": [],
   "source": [
    "mean_total_amount=cleaned_taxi[:,13].mean()\n",
    "mean_total_amount"
   ]
  }
 ],
 "metadata": {
  "kernelspec": {
   "display_name": "Python 3",
   "language": "python",
   "name": "python3"
  },
  "language_info": {
   "codemirror_mode": {
    "name": "ipython",
    "version": 3
   },
   "file_extension": ".py",
   "mimetype": "text/x-python",
   "name": "python",
   "nbconvert_exporter": "python",
   "pygments_lexer": "ipython3",
   "version": "3.7.3"
  }
 },
 "nbformat": 4,
 "nbformat_minor": 2
}
