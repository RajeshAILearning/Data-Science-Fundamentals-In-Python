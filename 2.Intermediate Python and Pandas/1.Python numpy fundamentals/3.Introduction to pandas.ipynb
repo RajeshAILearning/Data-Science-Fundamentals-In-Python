{
 "cells": [
  {
   "cell_type": "markdown",
   "metadata": {},
   "source": [
    "## Rajesh's DS & AI Learning"
   ]
  },
  {
   "cell_type": "markdown",
   "metadata": {},
   "source": [
    "# 1. Understanding pandas and NumPy"
   ]
  },
  {
   "cell_type": "markdown",
   "metadata": {},
   "source": [
    "### Although NumPy provides fundamental structures and tools that make working with data easier, there are several things that limit its usefulness:\n",
    "\n",
    "* The lack of support for column names forces us to frame questions as multi-dimensional array operations.\n",
    "* Support for only one data type per ndarray makes it more difficult to work with data that contains both numeric and string data.\n",
    "* There are lots of low level methods, but there are many common analysis patterns that don't have pre-built methods."
   ]
  },
  {
   "cell_type": "markdown",
   "metadata": {},
   "source": [
    " * Pandas is not so much a replacement for NumPy as an extension of NumPy. The underlying code for pandas uses the NumPy library extensively\n",
    " **The primary data structure in pandas is called a dataframe. Dataframes are the pandas equivalent of a Numpy 2D ndarray, with a few key differences:**\n",
    "\n",
    "* Axis values can have string labels, not just numeric ones.\n",
    "* Dataframes can contain columns with multiple data types: including integer, float, and string."
   ]
  },
  {
   "cell_type": "markdown",
   "metadata": {},
   "source": [
    "# 2. Introduction to the Data"
   ]
  },
  {
   "cell_type": "markdown",
   "metadata": {},
   "source": [
    "we'll work with a data set from [Fortune](https://fortune.com/) magazine's [2017 Global 500 list](https://en.wikipedia.org/wiki/Fortune_Global_500), which ranks the top 500 corporations worldwide by revenue. The data set was originally compiled [here](https://data.world/chasewillden/fortune-500-companies-2017)"
   ]
  },
  {
   "cell_type": "code",
   "execution_count": 1,
   "metadata": {},
   "outputs": [],
   "source": [
    "import os\n",
    "\n",
    "# Define the name of your CSV file\n",
    "csv_filename = \"f500.csv.csv\"\n",
    "\n",
    "# Get the current directory of the Python script\n",
    "current_directory = os.getcwd()\n",
    "\n",
    "# Move back to the grandparent directory (two levels up)\n",
    "project_directory = os.path.dirname(os.path.dirname(current_directory))\n",
    "\n",
    "# Navigate to the \"datasets\" folder\n",
    "datasets_directory = os.path.join(project_directory, \"DataSets\")\n",
    "\n",
    "# Construct the full path to your CSV file\n",
    "csv_path = os.path.join(datasets_directory, csv_filename)\n",
    "\n",
    "# Check if the file exists\n",
    "if os.path.exists(csv_path):\n",
    "    print(\"CSV file found at:\", csv_path)\n",
    "else:\n",
    "    print(\"CSV file not found at:\", csv_path)\n",
    "\n",
    "#import pandas module\n",
    "import pandas as pd \n",
    "\n",
    "# read f500 dataset file\n",
    "f500 = pd.read_csv(csv_path,index_col=0)\n",
    "f500.index.name = None\n",
    "f500_type=type(f500)\n",
    "f500_shape=f500.shape"
   ]
  },
  {
   "cell_type": "markdown",
   "metadata": {},
   "source": [
    "# 3. Introducing DataFrames"
   ]
  },
  {
   "cell_type": "markdown",
   "metadata": {},
   "source": [
    "* To view the first few rows of our dataframe, we can use the DataFrame.head(no_of_rows) method. \n",
    "* To view the last few rows of our dataframe, we can use the DataFrame.tail(np_of_rowws) method. "
   ]
  },
  {
   "cell_type": "code",
   "execution_count": 2,
   "metadata": {},
   "outputs": [],
   "source": [
    "# To view upper few rows\n",
    "f500_head=f500.head(6)\n",
    "f500_tail=f500.tail(7)"
   ]
  },
  {
   "cell_type": "code",
   "execution_count": null,
   "metadata": {},
   "outputs": [],
   "source": [
    "f500_head"
   ]
  },
  {
   "cell_type": "code",
   "execution_count": null,
   "metadata": {},
   "outputs": [],
   "source": [
    "f500_tail"
   ]
  },
  {
   "cell_type": "markdown",
   "metadata": {},
   "source": [
    "# 4. Introducing DataFrames Continued"
   ]
  },
  {
   "cell_type": "markdown",
   "metadata": {},
   "source": [
    "* Another feature that makes pandas better for working with data is that dataframes can contain more than one data type"
   ]
  },
  {
   "cell_type": "markdown",
   "metadata": {},
   "source": [
    "* We can use the `DataFrame.dtypes` attribute (similar to NumPy's ndarray.dtype attribute) to return information about the types of each column. \n",
    "*  Pandas uses NumPy dtypes for numeric columns, including integer64.\n",
    "* There is also a type we haven't seen before, `object`, which is used for columns that have data that doesn't fit into any other dtypes. This is almost always used for columns containing string values.\n",
    "* When we import data, pandas will attempt to guess the correct dtype for each column."
   ]
  },
  {
   "cell_type": "code",
   "execution_count": null,
   "metadata": {},
   "outputs": [],
   "source": [
    "f500.dtypes"
   ]
  },
  {
   "cell_type": "markdown",
   "metadata": {},
   "source": [
    "* If we wanted an overview of all the dtypes used in our dataframe, along with its shape and other information, we could use the DataFrame.info() method. \n",
    "* Note that DataFrame.info() prints the information, rather than returning it, so we can't assign it to a variable."
   ]
  },
  {
   "cell_type": "code",
   "execution_count": null,
   "metadata": {},
   "outputs": [],
   "source": [
    "f500.info()"
   ]
  },
  {
   "cell_type": "markdown",
   "metadata": {},
   "source": [
    "# 5. Selecting a Column From a DataFrame by Label"
   ]
  },
  {
   "cell_type": "markdown",
   "metadata": {},
   "source": [
    "* Because our axes in pandas have labels, we can select data using those labels — unlike in NumPy, where we needed to know the exact index location. \n",
    "* To do this, we can use the DataFrame.loc[] attribute. The syntax for DataFrame.loc[] is:\n",
    "\n",
    "`df.loc[row_label, column_label]`"
   ]
  },
  {
   "cell_type": "markdown",
   "metadata": {},
   "source": [
    "## ToDo:\n",
    "* Select the industry column. Assign the result to the variable name industries.\n",
    "* Use Python's type() function to assign the type of industries to industries_type."
   ]
  },
  {
   "cell_type": "code",
   "execution_count": null,
   "metadata": {},
   "outputs": [],
   "source": [
    "industries=f500.loc[:,'industry']\n",
    "type(industries)"
   ]
  },
  {
   "cell_type": "markdown",
   "metadata": {},
   "source": [
    "# 6. Introduction to Series"
   ]
  },
  {
   "cell_type": "markdown",
   "metadata": {},
   "source": [
    "**Series is the pandas type for one-dimensional objects. Anytime you see a 1D pandas object, it will be a series. Anytime you see a 2D pandas object, it will be a dataframe.**"
   ]
  },
  {
   "cell_type": "markdown",
   "metadata": {},
   "source": [
    "* In fact, you can think of a dataframe as a collection of series objects, which is similar to how pandas stores the data behind the scenes"
   ]
  },
  {
   "cell_type": "markdown",
   "metadata": {},
   "source": [
    "# 7. Selecting Columns From a DataFrame by Label Continued"
   ]
  },
  {
   "cell_type": "markdown",
   "metadata": {},
   "source": [
    "* we use a `list of labels` to select specific columns\n"
   ]
  },
  {
   "cell_type": "markdown",
   "metadata": {},
   "source": [
    "<block><pre>\n",
    "\n",
    "A summary of the techniques we've learned so far is below:\n",
    "\n",
    "Select by Label\t           Explicit Syntax\t            Common Shorthand\n",
    "Single column\t           df.loc[:,\"col1\"]       \t        df[\"col1\"]\n",
    "List of columns\t           df.loc[:,[\"col1\", \"col7\"]]\t    df[[\"col1\", \"col7\"]]\n",
    "Slice of columns\t       df.loc[:,\"col1\":\"col4\"]\t\n",
    "<block></pre>"
   ]
  },
  {
   "cell_type": "markdown",
   "metadata": {},
   "source": [
    "## TODO:\n",
    "* Select the country column. Assign the result to the variable name countries.\n",
    "* In order, select the revenues and years_on_global_500_list columns. Assign the result to the variable name revenues_years.\n",
    "* In order, select all columns from ceo up to and including sector. Assign the result to the variable name ceo_to_sector."
   ]
  },
  {
   "cell_type": "code",
   "execution_count": 8,
   "metadata": {},
   "outputs": [],
   "source": [
    "countries=f500['country']\n",
    "revenues_years=f500[['revenues','years_on_global_500_list']]\n",
    "ceo_to_sector=f500.loc[:,'ceo':'sector']"
   ]
  },
  {
   "cell_type": "code",
   "execution_count": null,
   "metadata": {},
   "outputs": [],
   "source": [
    "countries"
   ]
  },
  {
   "cell_type": "code",
   "execution_count": null,
   "metadata": {},
   "outputs": [],
   "source": [
    "revenues_years"
   ]
  },
  {
   "cell_type": "code",
   "execution_count": null,
   "metadata": {},
   "outputs": [],
   "source": [
    "ceo_to_sector"
   ]
  },
  {
   "cell_type": "markdown",
   "metadata": {},
   "source": [
    "# 8. Selecting Rows From a DataFrame by Label"
   ]
  },
  {
   "cell_type": "markdown",
   "metadata": {},
   "source": [
    "`df.loc[row_label, column_label]`"
   ]
  },
  {
   "cell_type": "markdown",
   "metadata": {},
   "source": [
    "## TODO:\n",
    "By selecting data from f500:\n",
    "* Create a new variable toyota, with:\n",
    "  * Just the row with index Toyota Motor.\n",
    "  * All columns.\n",
    "* Create a new variable, drink_companies, with:\n",
    "  * Rows with indicies Anheuser-Busch InBev, Coca-Cola, and Heineken Holding, in that order.\n",
    "  * All columns.\n",
    "* Create a new variable, middle_companies with:\n",
    "  * All rows with indicies from Tata Motors to Nationwide, inclusive.\n",
    "  * All columns from rank to country, inclusive."
   ]
  },
  {
   "cell_type": "code",
   "execution_count": 12,
   "metadata": {},
   "outputs": [],
   "source": [
    "#select single single row\n",
    "toyota=f500.loc['Toyota Motor',:]\n",
    "\n",
    "#select list of rows\n",
    "drink_companies=f500.loc[['Anheuser-Busch InBev','Coca-Cola','Heineken Holding']]\n",
    "\n",
    "# select slice of rows\n",
    "middle_companies=f500.loc['Tata Motors':'Nationwide','rank':'country']"
   ]
  },
  {
   "cell_type": "code",
   "execution_count": null,
   "metadata": {},
   "outputs": [],
   "source": [
    "toyota"
   ]
  },
  {
   "cell_type": "code",
   "execution_count": null,
   "metadata": {},
   "outputs": [],
   "source": [
    "drink_companies"
   ]
  },
  {
   "cell_type": "code",
   "execution_count": null,
   "metadata": {},
   "outputs": [],
   "source": [
    "middle_companies"
   ]
  },
  {
   "cell_type": "markdown",
   "metadata": {},
   "source": [
    "# 9. Series vs Dataframes"
   ]
  },
  {
   "cell_type": "markdown",
   "metadata": {},
   "source": [
    "<block><pre>\n",
    "                                      Column                            row\n",
    " 1. Select single                    df['col']                          df.loc['row']\n",
    " 2. Select list of                   df[['col1','col2','col3']]         df.loc[['row1','row2','row3']]\n",
    " 3. Select slice of                  df[:,'col1':'col5']                 df['row1':'row3']\n",
    "\n",
    "<block></pre>\n",
    "* where single column or row is Series and more than one column or rows are Dataframe objects."
   ]
  },
  {
   "cell_type": "markdown",
   "metadata": {},
   "source": [
    "# 10. Value Counts Method"
   ]
  },
  {
   "cell_type": "markdown",
   "metadata": {},
   "source": [
    "* Because series and dataframes are two distinct objects, they have their own unique methods."
   ]
  },
  {
   "cell_type": "markdown",
   "metadata": {},
   "source": [
    " * `Series.value_counts()` method. This method displays each unique non-null value in a column and their counts in order."
   ]
  },
  {
   "cell_type": "markdown",
   "metadata": {},
   "source": [
    "## TODO:\n",
    "* Select the country column in the f500_sel dataframe. Assign it to a variable named countries.\n",
    "* Use the Series.value_counts() method to return the value counts for countries. Assign the results to country_counts."
   ]
  },
  {
   "cell_type": "code",
   "execution_count": 16,
   "metadata": {},
   "outputs": [],
   "source": [
    "countries=f500['country']\n",
    "country_counts=countries.value_counts()"
   ]
  },
  {
   "cell_type": "code",
   "execution_count": null,
   "metadata": {},
   "outputs": [],
   "source": [
    "country_counts"
   ]
  },
  {
   "cell_type": "markdown",
   "metadata": {},
   "source": [
    "# 11. Selecting Items from a Series by Label"
   ]
  },
  {
   "cell_type": "markdown",
   "metadata": {},
   "source": [
    "<block><pre>\n",
    "\n",
    "Select by Label\t                            Explicit Syntax\t                Shorthand Convention\n",
    "Single item from series\t                     s.loc[\"item8\"]\t                   s[\"item8\"]\n",
    "List of items from series\t                 s.loc[[\"item1\",\"item7\"]]\t       s[[\"item1\",\"item7\"]]\n",
    "Slice of items from series\t                 s.loc[\"item2\":\"item4\"]\t           s[\"item2\":\"item4\"] \n",
    "\n",
    "<block></pre>"
   ]
  },
  {
   "cell_type": "markdown",
   "metadata": {},
   "source": [
    "## TODO\n",
    "From the pandas series countries_counts:\n",
    "* Select the item at index label India. Assign the result to the variable name india.\n",
    "* In order, select the items with index labels USA, Canada, and Mexico. Assign the result to the variable name north_america."
   ]
  },
  {
   "cell_type": "code",
   "execution_count": 18,
   "metadata": {},
   "outputs": [],
   "source": [
    "india=country_counts['India']"
   ]
  },
  {
   "cell_type": "code",
   "execution_count": 19,
   "metadata": {},
   "outputs": [],
   "source": [
    "north_america=country_counts[['USA','Canada','Mexico']]"
   ]
  },
  {
   "cell_type": "code",
   "execution_count": null,
   "metadata": {},
   "outputs": [],
   "source": [
    "india"
   ]
  },
  {
   "cell_type": "code",
   "execution_count": null,
   "metadata": {},
   "outputs": [],
   "source": [
    "north_america"
   ]
  },
  {
   "cell_type": "markdown",
   "metadata": {},
   "source": [
    "# 12. Summary Challenge"
   ]
  },
  {
   "cell_type": "markdown",
   "metadata": {},
   "source": [
    "<block><pre>\n",
    "Select by Label                                \tExplicit Syntax             \tShorthand Convention\n",
    "Single column from dataframe\t                  df.loc[:,\"col1\"]\t              df[\"col1\"]\n",
    "List of columns from dataframe                    df.loc[:,[\"col1\",\"col7\"]]        df[[\"col1\",\"col7\"]]\n",
    "Slice of columns from dataframe\t                  df.loc[:,\"col1\":\"col4\"]\t       -\n",
    "Single row from dataframe\t                      df.loc[\"row4\"]\t               -\n",
    "List of rows from dataframe\t                      df.loc[[\"row1\", \"row8\"]]\t       -\n",
    "Slice of rows from dataframe\t                  df.loc[\"row3\":\"row5\"]\t          df[\"row3\":\"row5\"]\n",
    "Single item from series\t                          s.loc[\"item8\"]\t              s[\"item8\"]\n",
    "List of items from series\t                      s.loc[[\"item1\",\"item7\"]]\t      s[[\"item1\",\"item7\"]]\n",
    "Slice of items from series\t                      s.loc[\"item2\":\"item4\"]\t      s[\"item2\":\"item4\"]\n",
    "\n",
    "\n",
    "<block></pre>"
   ]
  },
  {
   "cell_type": "markdown",
   "metadata": {},
   "source": [
    "## TODO\n",
    "By selecting data from f500:\n",
    "\n",
    "* Create a new variable big_movers, with:\n",
    "  * Rows with indices Aviva, HP, JD.com, and BHP Billiton, in that order.\n",
    "  * The rank and previous_rank columns, in that order.\n",
    "* Create a new variable, bottom_companies with:\n",
    "   * All rows with indices from National Grid to AutoNation, inclusive.\n",
    "   * The rank, sector, and country columns."
   ]
  },
  {
   "cell_type": "code",
   "execution_count": 22,
   "metadata": {},
   "outputs": [],
   "source": [
    "big_movers=f500.loc[['Aviva','HP','JD.com','BHP Billiton'],['rank','previous_rank']]\n",
    "bottom_companies=f500.loc['National Grid':'AutoNation',['rank','sector','country']]"
   ]
  },
  {
   "cell_type": "code",
   "execution_count": null,
   "metadata": {},
   "outputs": [],
   "source": [
    "big_movers"
   ]
  },
  {
   "cell_type": "code",
   "execution_count": null,
   "metadata": {},
   "outputs": [],
   "source": [
    "bottom_companies"
   ]
  }
 ],
 "metadata": {
  "kernelspec": {
   "display_name": "Python 3",
   "language": "python",
   "name": "python3"
  },
  "language_info": {
   "codemirror_mode": {
    "name": "ipython",
    "version": 3
   },
   "file_extension": ".py",
   "mimetype": "text/x-python",
   "name": "python",
   "nbconvert_exporter": "python",
   "pygments_lexer": "ipython3",
   "version": "3.7.3"
  }
 },
 "nbformat": 4,
 "nbformat_minor": 2
}
