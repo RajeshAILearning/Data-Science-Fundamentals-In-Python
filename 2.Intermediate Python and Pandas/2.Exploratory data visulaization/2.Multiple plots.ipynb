{
 "cells": [
  {
   "cell_type": "markdown",
   "metadata": {},
   "source": [
    "## Rajesh's DS & AI Learning"
   ]
  },
  {
   "cell_type": "markdown",
   "metadata": {},
   "source": [
    "# 1. Recap"
   ]
  },
  {
   "cell_type": "markdown",
   "metadata": {},
   "source": [
    "In this mission, we'll dive a bit deeper into matplotlib to learn how to create multiple line charts to help us compare monthly unemployment trends across time. "
   ]
  },
  {
   "cell_type": "markdown",
   "metadata": {},
   "source": [
    "## TODO:\n",
    "* Read unrate.csv into a DataFrame and assign to unrate.\n",
    "* Use Pandas.to_datetime to convert the DATE column into a Series of datetime values.\n",
    "* Generate a line chart that visualizes the unemployment rates from 1948:\n",
    "  * x-values should be the first 12 values in the DATE column\n",
    "  * y-values should be the first 12 values in the VALUE column\n",
    "* Use pyplot.xticks() to rotate the x-axis tick labels by 90 degrees.\n",
    "* Use pyplot.xlabel() to set the x-axis label to \"Month\".\n",
    "* Use pyplot.ylabel() to set the y-axis label to \"Unemployment Rate\".\n",
    "* Use pyplot.title() to set the plot title to \"Monthly Unemployment Trends, 1948\".\n",
    "* Display the plot."
   ]
  },
  {
   "cell_type": "code",
   "execution_count": 1,
   "metadata": {},
   "outputs": [],
   "source": [
    "# import required libraries\n",
    "\n",
    "import pandas as pd\n",
    "import matplotlib.pyplot as plt\n",
    "\n",
    "%matplotlib inline"
   ]
  },
  {
   "cell_type": "code",
   "execution_count": 2,
   "metadata": {},
   "outputs": [],
   "source": [
    "import os\n",
    "\n",
    "# Define the name of your CSV file\n",
    "csv_filename = \"unrate.csv\"\n",
    "\n",
    "# Get the current directory of the Python script\n",
    "current_directory = os.getcwd()\n",
    "\n",
    "# Move back to the grandparent directory (two levels up)\n",
    "project_directory = os.path.dirname(os.path.dirname(current_directory))\n",
    "\n",
    "# Navigate to the \"datasets\" folder\n",
    "datasets_directory = os.path.join(project_directory, \"DataSets\")\n",
    "\n",
    "# Construct the full path to your CSV file\n",
    "csv_path = os.path.join(datasets_directory, csv_filename)\n",
    "\n",
    "# Check if the file exists\n",
    "if os.path.exists(csv_path):\n",
    "    print(\"CSV file found at:\", csv_path)\n",
    "else:\n",
    "    print(\"CSV file not found at:\", csv_path)\n",
    "\n",
    "# import data file\n",
    "unrate=pd.read_csv(csv_path)"
   ]
  },
  {
   "cell_type": "code",
   "execution_count": 3,
   "metadata": {},
   "outputs": [],
   "source": [
    "# Converts date column to datetime datatype\n",
    "\n",
    "# unrate['DATE']=pd.to_datetime(unrate['DATE'])"
   ]
  },
  {
   "cell_type": "code",
   "execution_count": 4,
   "metadata": {},
   "outputs": [],
   "source": [
    "month_12=unrate[0:12]"
   ]
  },
  {
   "cell_type": "code",
   "execution_count": 5,
   "metadata": {},
   "outputs": [
    {
     "data": {
      "image/png": "[encoded data removed]",
      "text/plain": [
       "<Figure size 432x288 with 1 Axes>"
      ]
     },
     "metadata": {
      "needs_background": "light"
     },
     "output_type": "display_data"
    }
   ],
   "source": [
    "plt.plot(month_12['DATE'],month_12['VALUE'])\n",
    "plt.xticks(rotation=90)\n",
    "plt.xlabel('month')\n",
    "plt.ylabel('Unemplployment rate')\n",
    "plt.title('Monthly unemployment trends,1948')\n",
    "plt.show()"
   ]
  },
  {
   "cell_type": "markdown",
   "metadata": {},
   "source": [
    "# 2. Matplotlib Classes"
   ]
  },
  {
   "cell_type": "markdown",
   "metadata": {},
   "source": [
    "When we were working with a single plot, pyplot was storing and updating the state of that single plot. We could tweak the plot just using the functions in the pyplot module. `When we want to work with multiple plots, however, we need to be more explicit about which plot we're making changes to`. This means we need to understand the `matplotlib classes that pyplot uses internally to maintain state so we can interact with them directly`. Let's first start by understanding what pyplot was automatically storing under the hood when we create a single plot:\n",
    "\n",
    "* a container for all plots was created (returned as a Figure object)\n",
    "* a container for the plot was positioned on a grid (the plot returned as an Axes object)\n",
    "* visual symbols were added to the plot (using the Axes methods)"
   ]
  },
  {
   "cell_type": "markdown",
   "metadata": {},
   "source": [
    "**A figure acts as a container for all of our plots and has methods for customizing the appearance and behavior for the plots within that container**"
   ]
  },
  {
   "cell_type": "markdown",
   "metadata": {},
   "source": [
    "We can manually create a figure by calling pyplot.figure():\n",
    "\n",
    "`fig = plt.figure()`"
   ]
  },
  {
   "cell_type": "markdown",
   "metadata": {},
   "source": [
    "After a figure is created, an axes for a single plot containing no data is created within the context of the figure. When rendered without data, the plot will resemble the empty plot from the previous mission. The Axes object acts as its own container for the various components of the plot, such as:\n",
    "\n",
    "* values on the x-axis and y-axis\n",
    "* ticks on the x-axis and y-axis\n",
    "* all visual symbols, such as:\n",
    "  * markers\n",
    "  * lines\n",
    "  * gridlines"
   ]
  },
  {
   "cell_type": "markdown",
   "metadata": {},
   "source": [
    "\n",
    "**While plots are represented using instances of the Axes class**, they're also often referred to as subplots in matplotlib. To add a new subplot to an existing figure, use Figure.add_subplot. This will return a new Axes object, which needs to be assigned to a variable:\n",
    "\n",
    "`axes_obj = fig.add_subplot(nrows, ncols, plot_number)`"
   ]
  },
  {
   "cell_type": "markdown",
   "metadata": {},
   "source": [
    "# 3. Matplotlib Classes"
   ]
  },
  {
   "cell_type": "markdown",
   "metadata": {},
   "source": [
    "## TODO\n",
    "* Use plt.figure() to create a figure and assign to fig.\n",
    "* Use Figure.add_subplot() to create two subplots above and below each other\n",
    "* Assign the top Axes object to ax1.\n",
    "* Assign the bottom Axes object to ax2.\n",
    "* Use plt.show() to display the resulting plot."
   ]
  },
  {
   "cell_type": "code",
   "execution_count": null,
   "metadata": {},
   "outputs": [],
   "source": [
    "fig=plt.figure()\n",
    "ax_1=fig.add_subplot(2,1,1)\n",
    "ax_2=fig.add_subplot(2,1,2)\n",
    "plt.show()"
   ]
  },
  {
   "cell_type": "markdown",
   "metadata": {},
   "source": [
    "# 4. Grid Positioning"
   ]
  },
  {
   "cell_type": "markdown",
   "metadata": {},
   "source": [
    "When the first subplot is created, matplotlib knows to create a grid with 2 rows and 2 columns. As we add each subplot, we specify the plot number we want returned and the corresponding Axes object is created and returned. In matplotlib, the plot number starts at the top left position in the grid (left-most plot on the top row), moves through the remaining positions in that row, then jumps to the left-most plot in the second row, and so forth."
   ]
  },
  {
   "cell_type": "code",
   "execution_count": null,
   "metadata": {},
   "outputs": [],
   "source": [
    "from IPython.display import Image\n",
    "Image(url='https://s3.amazonaws.com/dq-content/subplot_grid.png')"
   ]
  },
  {
   "cell_type": "markdown",
   "metadata": {},
   "source": [
    "# 5. Adding Data"
   ]
  },
  {
   "cell_type": "markdown",
   "metadata": {},
   "source": [
    "* To generate a line chart within an Axes object, we need to call `Axes.plot()` and pass in the data you want plotted:\n",
    "* Like `pyplot.plot()`, the `Axes.plot()` will accept any iterable object for these parameters, including NumPy arrays and pandas Series objects."
   ]
  },
  {
   "cell_type": "markdown",
   "metadata": {},
   "source": [
    "## TODO:\n",
    "* Create 2 line subplots in a 2 row by 1 column layout:\n",
    "\n",
    "* In the top subplot, plot the data from 1948.\n",
    "  * For the x-axis, use the first 12 values in the DATE column.\n",
    "  * For the y-axis, use the first 12 values in the VALUE column.\n",
    "* In the bottom subplot, plot the data from 1949.\n",
    "  * For the x-axis, use the values from index 12 to 24 in the DATE column.\n",
    "  * For the y-axis, use the values from index 12 to 24 in the VALUE column.\n",
    "* Use plt.show() to display all the plots."
   ]
  },
  {
   "cell_type": "code",
   "execution_count": null,
   "metadata": {},
   "outputs": [],
   "source": [
    "year_1948=unrate[:12]\n",
    "year_1949=unrate[12:24]\n",
    "\n",
    "fig=plt.figure()\n",
    "ax_1=fig.add_subplot(2,1,1)\n",
    "ax_2=fig.add_subplot(2,1,2)\n",
    "ax_1.plot(year_1948['DATE'],year_1948['VALUE'])\n",
    "\n",
    "ax_2.plot(year_1949['DATE'],year_1949['VALUE'])\n",
    "plt.show()"
   ]
  },
  {
   "cell_type": "markdown",
   "metadata": {},
   "source": [
    "# 6. Formatting And Spacing"
   ]
  },
  {
   "cell_type": "markdown",
   "metadata": {},
   "source": [
    "* One issue with the 2 plots is that the x-axis ticks labels are unreadable.\n",
    "* The other issue is that the plots are squeezed together vertically and hard to interpret. Even though now we generated 2 line charts, the total plotting area for the figure remained the same\n",
    " "
   ]
  },
  {
   "cell_type": "markdown",
   "metadata": {},
   "source": [
    "* This is because matplotlib used the default dimensions for the total plotting area instead of resizing it to accommodate the plots. If we want to expand the plotting area, we have to specify this ourselves when we create the figure.\n",
    "* To tweak the dimensions of the plotting area, we need to use the figsize parameter when we call `plt.figure()`"
   ]
  },
  {
   "cell_type": "markdown",
   "metadata": {},
   "source": [
    "`fig = plt.figure(figsize=(width, height))`"
   ]
  },
  {
   "cell_type": "markdown",
   "metadata": {},
   "source": [
    "## TODO:\n",
    "For the plot we generated above, set the width of the plotting area to 12 inches and the height to 5 inches."
   ]
  },
  {
   "cell_type": "code",
   "execution_count": null,
   "metadata": {},
   "outputs": [],
   "source": [
    "year_1948=unrate[:12]\n",
    "year_1949=unrate[12:24]\n",
    "\n",
    "fig=plt.figure(figsize=(12,5))\n",
    "ax_1=fig.add_subplot(2,1,1)\n",
    "ax_2=fig.add_subplot(2,1,2)\n",
    "ax_1.plot(year_1948['DATE'],year_1948['VALUE'])\n",
    "\n",
    "ax_2.plot(year_1949['DATE'],year_1949['VALUE'])\n",
    "plt.show()"
   ]
  },
  {
   "cell_type": "markdown",
   "metadata": {},
   "source": [
    "# 7. Comparing Across More Years"
   ]
  },
  {
   "cell_type": "markdown",
   "metadata": {},
   "source": [
    "**Expanding the plotting area horizontally improved the readability of the x-axis tick labels and minimized the amount of space between the 2 line charts**."
   ]
  },
  {
   "cell_type": "markdown",
   "metadata": {},
   "source": [
    " There's no changes in unemployment trends that are occurring in the same month in both years."
   ]
  },
  {
   "cell_type": "markdown",
   "metadata": {},
   "source": [
    "## TODO:\n",
    "* Set the width of the plotting area to 12 inches and the height to 12 inches.\n",
    "* Generate a grid with 5 rows and 1 column and plot data from the individual years. Start with 1948 in the top subplot and end with 1952 in the bottom subplot.\n",
    "* Use plt.show() to display the plots."
   ]
  },
  {
   "cell_type": "code",
   "execution_count": null,
   "metadata": {},
   "outputs": [],
   "source": [
    "fig=plt.figure(figsize=(12,12))\n",
    "for i in range(5):\n",
    "    ax=fig.add_subplot(5,1,i+1)\n",
    "    start_index=i*12\n",
    "    end_index=(i+1)*12\n",
    "    ax.plot(unrate['DATE'][start_index:end_index],unrate['VALUE'][start_index:end_index])\n",
    "plt.show()"
   ]
  },
  {
   "cell_type": "markdown",
   "metadata": {},
   "source": [
    "# 8. Overlaying Line Charts"
   ]
  },
  {
   "cell_type": "markdown",
   "metadata": {},
   "source": [
    "`By adding more line charts, we can look across more years for seasonal trends. This comes at a cost, unfortunately. We now have to visually scan over more space,` which is a limitation that we experienced when scanning the table representation of the same data."
   ]
  },
  {
   "cell_type": "markdown",
   "metadata": {},
   "source": [
    "We can handle the visual overhead each additional plot adds by overlaying the line charts in a single subplot. If we remove the year from the x-axis and just keep the month values, we can use the same x-axis values to plot all of the lines"
   ]
  },
  {
   "cell_type": "markdown",
   "metadata": {},
   "source": [
    "**To extract the month values from the DATE column and assign them to a new column, we can use the `pandas.Series.dt` accessor:**"
   ]
  },
  {
   "cell_type": "markdown",
   "metadata": {},
   "source": [
    "Calling pandas.Series.dt.month returns a Series containing the integer values for each month (e.g. 1 for January, 2 for February, etc.). Under the hood, pandas applies the datetime.date.month attribute from the datetime.date class over each datetime value in the DATE column, which returns the integer month value."
   ]
  },
  {
   "cell_type": "markdown",
   "metadata": {},
   "source": [
    "## TODO:\n",
    "* Set the plotting area to a width of 6 inches and a height of 3 inches.\n",
    "* Generate 2 line charts in the base subplot, using the MONTH column for the x-axis instead of the DATE column:\n",
    "\n",
    "* One line chart using data from 1948, with the line color set to \"red\".\n",
    "* One line chart using data from 1949, with the line color set to \"blue\".\n",
    "* Use plt.show() to display the plots."
   ]
  },
  {
   "cell_type": "code",
   "execution_count": 11,
   "metadata": {},
   "outputs": [],
   "source": [
    "unrate[\"DATE\"]=pd.to_datetime(unrate['DATE'])\n",
    "unrate['MONTH']=unrate['DATE'].dt.month"
   ]
  },
  {
   "cell_type": "code",
   "execution_count": null,
   "metadata": {},
   "outputs": [],
   "source": [
    "fig=plt.figure(figsize=(6,3))\n",
    "plt.plot(unrate['MONTH'][0:12],unrate['VALUE'][0:12],c='red')\n",
    "plt.plot(unrate['MONTH'][0:12],unrate['VALUE'][12:24],c='blue')\n",
    "plt.show()"
   ]
  },
  {
   "cell_type": "markdown",
   "metadata": {},
   "source": [
    "# 9. Adding More Lines"
   ]
  },
  {
   "cell_type": "markdown",
   "metadata": {},
   "source": [
    "## TODO:\n",
    "Let's visualize 5 years worth of unemployment rates on the same subplot."
   ]
  },
  {
   "cell_type": "markdown",
   "metadata": {},
   "source": [
    "* Set the plotting area to a width of 10 inches and a height of 6 inches.\n",
    "Generate the following plots in the base subplot:\n",
    "\n",
    "* 1948: set the line color to \"red\"\n",
    "* 1949: set the line color to \"blue\"\n",
    "* 1950: set the line color to \"green\"\n",
    "* 1951: set the line color to \"orange\"\n",
    "* 1952: set the line color to \"black\"\n",
    "* Use plt.show() to display the plots."
   ]
  },
  {
   "cell_type": "code",
   "execution_count": null,
   "metadata": {},
   "outputs": [],
   "source": [
    "fig=plt.figure(figsize=(10,6))\n",
    "colors=['red','blue','green','orange','black']\n",
    "for i in range(5):\n",
    "    start_index=i*12\n",
    "    end_index=(i+1)*12\n",
    "    plt.plot(unrate['MONTH'][start_index:end_index],unrate['VALUE'][start_index:end_index],c=colors[i])\n",
    "plt.show()"
   ]
  },
  {
   "cell_type": "markdown",
   "metadata": {},
   "source": [
    "# 10. Adding A Legend"
   ]
  },
  {
   "cell_type": "markdown",
   "metadata": {},
   "source": [
    " You can tell from the last sentence that we don't know which line corresponds to which year, because the x-axis now only reflects the month values.\n",
    "\n",
    "`To help remind us which year each line corresponds to, we can add a legend that links each color to the year the line is representing`."
   ]
  },
  {
   "cell_type": "markdown",
   "metadata": {},
   "source": [
    "**We can create the legend using pyplot.legend and specify its location using the `loc parameter`:**\n",
    "`plt.legend(loc='upper left')`"
   ]
  },
  {
   "cell_type": "markdown",
   "metadata": {},
   "source": [
    "When we generate each line chart, we need to specify the text label we want each color linked to. The pyplot.plot() function contains a label parameter, which we use to set the year value:"
   ]
  },
  {
   "cell_type": "markdown",
   "metadata": {},
   "source": [
    "## TODO:\n",
    "* Modify the code from above cell that overlaid 5 plots to include a legend. Use the year value for each line chart as the label.\n",
    "E.g. the plot of 1948 data that uses \"red\" for the line color should be labeled \"1948\" in the legend.\n",
    "* Place the legend in the \"upper left\" corner of the plot.\n",
    "* Display the plot using plt.show()."
   ]
  },
  {
   "cell_type": "code",
   "execution_count": null,
   "metadata": {},
   "outputs": [],
   "source": [
    "fig=plt.figure(figsize=(10,6))\n",
    "colors=['red','blue','green','orange','black']\n",
    "for i in range(5):\n",
    "    start_index=i*12\n",
    "    end_index=(i+1)*12\n",
    "    label=str(1948+i)\n",
    "    plt.plot(unrate['MONTH'][start_index:end_index],unrate['VALUE'][start_index:end_index],c=colors[i],label=label)\n",
    "plt.legend(loc='upper left')\n",
    "plt.show()\n"
   ]
  },
  {
   "cell_type": "markdown",
   "metadata": {},
   "source": [
    "# 11. Final Tweaks"
   ]
  },
  {
   "cell_type": "markdown",
   "metadata": {},
   "source": [
    "## TODO\n",
    "* Modify the code from the above cell:\n",
    "* Set the title to \"Monthly Unemployment Trends, 1948-1952\".\n",
    "* Set the x-axis label to \"Month, Integer\".\n",
    "* Set the y-axis label to \"Unemployment Rate, Percent\"."
   ]
  },
  {
   "cell_type": "code",
   "execution_count": null,
   "metadata": {},
   "outputs": [],
   "source": [
    "fig=plt.figure(figsize=(10,6))\n",
    "colors=['red','blue','green','orange','black']\n",
    "for i in range(5):\n",
    "    start_index=i*12\n",
    "    end_index=(i+1)*12\n",
    "    label=str(1948+i)\n",
    "    plt.plot(unrate['MONTH'][start_index:end_index],unrate['VALUE'][start_index:end_index],c=colors[i],label=label)\n",
    "plt.legend(loc='upper left')\n",
    "plt.title('Monthly Unemploment Trends,1948-1952')\n",
    "plt.xlabel('Month,Integer')\n",
    "plt.ylabel('Unemployment Rate,Percent')\n",
    "plt.show()"
   ]
  }
 ],
 "metadata": {
  "kernelspec": {
   "display_name": "Python 3",
   "language": "python",
   "name": "python3"
  },
  "language_info": {
   "codemirror_mode": {
    "name": "ipython",
    "version": 3
   },
   "file_extension": ".py",
   "mimetype": "text/x-python",
   "name": "python",
   "nbconvert_exporter": "python",
   "pygments_lexer": "ipython3",
   "version": "3.7.3"
  }
 },
 "nbformat": 4,
 "nbformat_minor": 2
}
