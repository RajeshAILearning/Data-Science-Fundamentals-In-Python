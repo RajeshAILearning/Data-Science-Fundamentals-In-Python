{
 "cells": [
  {
   "cell_type": "markdown",
   "metadata": {},
   "source": [
    "## Rajesh's DS & AI Learning"
   ]
  },
  {
   "cell_type": "markdown",
   "metadata": {},
   "source": [
    "# 1. Representation Of Data"
   ]
  },
  {
   "cell_type": "markdown",
   "metadata": {},
   "source": [
    " Unfortunately, it's very difficult to explore a dataset to uncover patterns when it's represented as a table, especially when that dataset contains many values. We need a different representation of data that can help us identify patterns more easily."
   ]
  },
  {
   "cell_type": "markdown",
   "metadata": {},
   "source": [
    "we'll learn the basics of `data visualization, a discipline that focuses on the visual representation of data. As humans, our brains have evolved to develop powerful visual processing capabilities. We can quickly find patterns in the visual information we encounter`, which was incredibly important from a survivability standpoint. Unfortunately, when data is represented as tables of values, we can't really take advantage of our visual pattern matching capabilities. This is because our ability to quickly process symbolic values (like numbers and words) is very poor. **Data visualization focuses on transforming data from table representations visual ones**."
   ]
  },
  {
   "cell_type": "markdown",
   "metadata": {},
   "source": [
    "* In this mission, we'll use a specific type of data visualization to understand U.S. unemployment data."
   ]
  },
  {
   "cell_type": "markdown",
   "metadata": {},
   "source": [
    "# 2. Introduction To The Data"
   ]
  },
  {
   "cell_type": "markdown",
   "metadata": {},
   "source": [
    "* The [United States Bureau of Labor Statistics (BLS)](https://www.bls.gov/) surveys and calculates the monthly unemployment rate. The unemployment rate is the percentage of individuals in the labor force without a job. While unemployment rate [isn't perfect](https://en.wikipedia.org/wiki/Unemployment#Limitations_of_the_unemployment_definition), it's a commonly used proxy for the health of the economy. You may have heard politicians and reporters state the unemployment rate when commenting on the economy. You can read more about how the BLS calculates the unemployment rate [here](https://www.bls.gov/cps/cps_htgm.htm)."
   ]
  },
  {
   "cell_type": "markdown",
   "metadata": {},
   "source": [
    "*  We've downloaded the monthly unemployment rate as CSV file from the website of the [Federal Reserve Bank of St. Louis](https://www.stlouisfed.org/) from January 1948 to August 2016, saved it as unrate.csv, and made it available in this mission."
   ]
  },
  {
   "cell_type": "markdown",
   "metadata": {},
   "source": [
    "## TODO:\n",
    "* Read unrate.csv into a DataFrame and assign to unrate.\n",
    "* Use the pandas.to_datetime function to convert the DATE column into a series of datetime values.\n",
    "* Display the first 12 rows in unrate."
   ]
  },
  {
   "cell_type": "code",
   "execution_count": 1,
   "metadata": {},
   "outputs": [],
   "source": [
    "import os\n",
    "\n",
    "# Define the name of your CSV file\n",
    "csv_filename = \"unrate.csv\"\n",
    "\n",
    "# Get the current directory of the Python script\n",
    "current_directory = os.getcwd()\n",
    "\n",
    "# Move back to the grandparent directory (two levels up)\n",
    "project_directory = os.path.dirname(os.path.dirname(current_directory))\n",
    "\n",
    "# Navigate to the \"datasets\" folder\n",
    "datasets_directory = os.path.join(project_directory, \"DataSets\")\n",
    "\n",
    "# Construct the full path to your CSV file\n",
    "csv_path = os.path.join(datasets_directory, csv_filename)\n",
    "\n",
    "# Check if the file exists\n",
    "if os.path.exists(csv_path):\n",
    "    print(\"CSV file found at:\", csv_path)\n",
    "else:\n",
    "    print(\"CSV file not found at:\", csv_path)\n",
    "\n",
    "import pandas as pd \n",
    "unrate=pd.read_csv(csv_path)"
   ]
  },
  {
   "cell_type": "code",
   "execution_count": null,
   "metadata": {},
   "outputs": [],
   "source": [
    "unrate.head()"
   ]
  },
  {
   "cell_type": "code",
   "execution_count": null,
   "metadata": {},
   "outputs": [],
   "source": [
    "unrate.info()"
   ]
  },
  {
   "cell_type": "markdown",
   "metadata": {},
   "source": [
    "* When we read the dataset into a DataFrame, pandas will set the data type of the DATE column as a text column.\n",
    "* Because of how pandas reads in strings internally, this column is given a data type of object. We need to convert this column to the datetime type using the pandas.to_datetime() function, which returns a Series object with the datetime data type"
   ]
  },
  {
   "cell_type": "code",
   "execution_count": 4,
   "metadata": {},
   "outputs": [],
   "source": [
    "#unrate['DATE']=pd.to_datetime(unrate['DATE'])"
   ]
  },
  {
   "cell_type": "code",
   "execution_count": null,
   "metadata": {},
   "outputs": [],
   "source": [
    "unrate.info()"
   ]
  },
  {
   "cell_type": "code",
   "execution_count": null,
   "metadata": {},
   "outputs": [],
   "source": [
    "unrate[:12]"
   ]
  },
  {
   "cell_type": "markdown",
   "metadata": {},
   "source": [
    "# 3. Table Representation"
   ]
  },
  {
   "cell_type": "markdown",
   "metadata": {},
   "source": [
    "* The first 12 rows reflect the unemployment rate from January 1948 to December 1948:"
   ]
  },
  {
   "cell_type": "markdown",
   "metadata": {},
   "source": [
    "* Take a minute to visually scan the table and observe how the monthly unemployment rate has changed over time."
   ]
  },
  {
   "cell_type": "markdown",
   "metadata": {},
   "source": [
    "# 4. Observations From The Table Representation"
   ]
  },
  {
   "cell_type": "markdown",
   "metadata": {},
   "source": [
    "We can make the following observations from the table:\n",
    "\n",
    "* In 1948:\n",
    "  * monthly unemployment rate ranged between 3.4 and 4.0.\n",
    "  * highest unemployment rate was reached in both March and December.\n",
    "  * lowest unemployment rate was reached in January.\n",
    "* From January to March, unemployment rate trended up.\n",
    "* From March to May, unemployment rate trended down.\n",
    "* From May to August, unemployment rate trended up.\n",
    "* From August to October, unemployment rate trended down.\n",
    "* From October to December, unemployment rate trended up."
   ]
  },
  {
   "cell_type": "markdown",
   "metadata": {},
   "source": [
    "* Because the table only contained the data from 1948, it didn't take too much time to identify these observations. If we scale up the table to include all 824 rows, `it would be very time-consuming and painful to understand.`\n",
    "* Tables shine at presenting information precisely at the intersection of rows and columns and allow us to perform quick lookups when we know the row and column we're interested in. In addition, `problems that involve comparing values between adjacent rows or columns are well suited for tables`. \n",
    "* Unfortunately, `many problems you'll encounter in data science require comparisons that aren't possible with just tables.`"
   ]
  },
  {
   "cell_type": "markdown",
   "metadata": {},
   "source": [
    "*  **`Seasonality is when a pattern is observed on a regular, predictable basis for a specific reason`**. A simple example of seasonality would be a large increase textbook purchases every August every year. Many schools start their terms in August and this spike in textbook sales is directly linked."
   ]
  },
  {
   "cell_type": "markdown",
   "metadata": {},
   "source": [
    "We need to first understand if there's any seasonality by comparing the unemployment trends across many years so we can decide if we should investigate it further"
   ]
  },
  {
   "cell_type": "markdown",
   "metadata": {},
   "source": [
    "# 5. Visual Representation"
   ]
  },
  {
   "cell_type": "markdown",
   "metadata": {},
   "source": [
    "* Instead of representing data using text like tables do, visual representations use visual objects like dots, shapes, and lines on a grid.\n",
    "* Plots are a category of visual representations that allow us to easily understand the relationships between variables. There are many types of plots and selecting the right one is an important skill that you'll hone as you create data visualizations.\n",
    "* Because we want to compare the unemployment trends across time, we should use line charts. "
   ]
  },
  {
   "cell_type": "code",
   "execution_count": null,
   "metadata": {},
   "outputs": [],
   "source": [
    "from IPython.display import Image\n",
    "Image(url='https://s3.amazonaws.com/dq-content/line_plot_basics.png')"
   ]
  },
  {
   "cell_type": "markdown",
   "metadata": {},
   "source": [
    "# 6. Introduction to Matplotlib"
   ]
  },
  {
   "cell_type": "markdown",
   "metadata": {},
   "source": [
    "* To create the line chart, we'll use the matplotlib library, which allows us to:\n",
    "\n",
    "  * quickly create common plots using high-level functions\n",
    "  * extensively tweak plots\n",
    "  * create new kinds of plots from the ground up"
   ]
  },
  {
   "cell_type": "markdown",
   "metadata": {},
   "source": [
    "**When working with commonly used plots in matplotlib, the general workflow is:**\n",
    "\n",
    "* create a plot using data\n",
    "* customize the appearance of the plot\n",
    "* display the plot\n",
    "* edit and repeat until satisfied"
   ]
  },
  {
   "cell_type": "markdown",
   "metadata": {},
   "source": [
    "The pyplot module is commonly imported as plt from matplotlib:\n",
    "\n",
    "`import matplotlib.pyplot as plt`"
   ]
  },
  {
   "cell_type": "markdown",
   "metadata": {},
   "source": [
    "To enable Jupyter and matplotlib working together effectively, you'll need to run the` %matplotlib inline` magic in a code cell each time you open the notebook. After running `%matplotlib inline, the plots will be displayed in the output cell whenever you call show()`."
   ]
  },
  {
   "cell_type": "code",
   "execution_count": 8,
   "metadata": {},
   "outputs": [],
   "source": [
    "%matplotlib inline"
   ]
  },
  {
   "cell_type": "code",
   "execution_count": null,
   "metadata": {},
   "outputs": [],
   "source": [
    "import matplotlib.pyplot as plt\n",
    "plt.plot()\n",
    "plt.show()"
   ]
  },
  {
   "cell_type": "markdown",
   "metadata": {},
   "source": [
    "# 7. Adding Data"
   ]
  },
  {
   "cell_type": "markdown",
   "metadata": {},
   "source": [
    "To generate the line chart we're interested in, we pass in the list of x-values as the first parameter and the list of y-values as the second parameter to plot():\n",
    "\n",
    "`plt.plot(x_values, y_values)`"
   ]
  },
  {
   "cell_type": "markdown",
   "metadata": {},
   "source": [
    " **The axis ticks consist of tick marks and tick labels.**"
   ]
  },
  {
   "cell_type": "code",
   "execution_count": null,
   "metadata": {},
   "outputs": [],
   "source": [
    "from IPython.display import Image\n",
    "Image(url='https://s3.amazonaws.com/dq-content/axis+ticks.png')"
   ]
  },
  {
   "cell_type": "markdown",
   "metadata": {},
   "source": [
    "## TODO:\n",
    "* Generate a line chart that visualizes the unemployment rates from 1948:\n",
    "  * x-values should be the first 12 values in the DATE column\n",
    "  * y-values should be the first 12 values in the VALUE column\n",
    "* Display the plot."
   ]
  },
  {
   "cell_type": "code",
   "execution_count": null,
   "metadata": {},
   "outputs": [],
   "source": [
    "from pandas.plotting import register_matplotlib_converters\n",
    "register_matplotlib_converters()\n",
    "first_12=unrate[:12]\n",
    "\n",
    "plt.plot(first_12['DATE'],first_12['VALUE'])\n",
    "plt.show()"
   ]
  },
  {
   "cell_type": "markdown",
   "metadata": {},
   "source": [
    "# 8. Fixing Axis Ticks"
   ]
  },
  {
   "cell_type": "markdown",
   "metadata": {},
   "source": [
    "While the y-axis looks fine, the x-axis tick labels are too close together and are unreadable"
   ]
  },
  {
   "cell_type": "markdown",
   "metadata": {},
   "source": [
    "The `xticks()` function within pyplot lets you customize the behavior of the x-axis ticks. If you head over to the [documentation for that function](https://matplotlib.org/api/pyplot_api.html#matplotlib.pyplot.xticks), it's not immediately obvious the arguments it takes:\n",
    "\n",
    "`matplotlib.pyplot.xticks(*args, **kwargs)`"
   ]
  },
  {
   "cell_type": "markdown",
   "metadata": {},
   "source": [
    "## TODO:\n",
    "* Generate the same line chart from the last screen that visualizes the unemployment rates from 1948:\n",
    "  * x-values should be the first 12 values in the DATE column\n",
    "  * y-values should be the first 12 values in the VALUE column\n",
    "* Use pyplot.xticks() to rotate the x-axis tick labels by 90 degrees.\n",
    "* Display the plot."
   ]
  },
  {
   "cell_type": "code",
   "execution_count": null,
   "metadata": {},
   "outputs": [],
   "source": [
    "first_12=unrate[0:12]\n",
    "\n",
    "plt.plot(first_12['DATE'],first_12['VALUE'])\n",
    "plt.xticks(rotation=90)\n",
    "plt.show()"
   ]
  },
  {
   "cell_type": "markdown",
   "metadata": {},
   "source": [
    "# 9. Adding Axis Labels And A Title"
   ]
  },
  {
   "cell_type": "markdown",
   "metadata": {},
   "source": [
    "Here's an overview of the pyplot functions we need to tweak the axis labels and the plot title:\n",
    "\n",
    "* **`xlabel()`**: accepts a string value, which gets set as the x-axis label.\n",
    "* **`ylabel()`**: accepts a string value, which is set as the y-axis label.\n",
    "* **`title()`**: accepts a string value, which is set as the plot title."
   ]
  },
  {
   "cell_type": "markdown",
   "metadata": {},
   "source": [
    "## TODO:\n",
    "* Generate the same line chart from the last screen that visualizes the unemployment rates from 1948:\n",
    "  * x-values should be the first 12 values in the DATE column\n",
    "  * y-values should be the first 12 values in the VALUE column\n",
    "* Rotate the x-axis tick labels by 90 degrees.\n",
    "* Set the x-axis label to \"Month\".\n",
    "* Set the y-axis label to \"Unemployment Rate\".\n",
    "* Set the plot title to \"Monthly Unemployment Trends, 1948\".\n",
    "* Display the plot."
   ]
  },
  {
   "cell_type": "code",
   "execution_count": null,
   "metadata": {},
   "outputs": [],
   "source": [
    "f_twelve=unrate[0:12]\n",
    "plt.plot(f_twelve['DATE'],f_twelve['VALUE'])\n",
    "plt.xticks(rotation=90)\n",
    "plt.xlabel(\"Month\")\n",
    "plt.ylabel(\"Unemployment Rate\")\n",
    "plt.title(\"Monthly Unemployment Trends, 1948\")\n",
    "plt.show()"
   ]
  }
 ],
 "metadata": {
  "kernelspec": {
   "display_name": "Python 3",
   "language": "python",
   "name": "python3"
  },
  "language_info": {
   "codemirror_mode": {
    "name": "ipython",
    "version": 3
   },
   "file_extension": ".py",
   "mimetype": "text/x-python",
   "name": "python",
   "nbconvert_exporter": "python",
   "pygments_lexer": "ipython3",
   "version": "3.7.3"
  }
 },
 "nbformat": 4,
 "nbformat_minor": 2
}
