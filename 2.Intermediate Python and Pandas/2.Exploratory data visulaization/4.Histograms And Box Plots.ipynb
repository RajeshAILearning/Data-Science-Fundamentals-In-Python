{
 "cells": [
  {
   "cell_type": "markdown",
   "metadata": {},
   "source": [
    "## Rajesh's DS & AI Learning"
   ]
  },
  {
   "cell_type": "markdown",
   "metadata": {},
   "source": [
    "# 1. Introduction"
   ]
  },
  {
   "cell_type": "markdown",
   "metadata": {},
   "source": [
    "* In the last mission, we learned how to create bar plots to compare the average user rating a movie received from four movie review sites. We also learned how to create scatter plots to explore how ratings on one site compare with ratings on another site.\n",
    "\n",
    "* In this mission, we'll learn how to visualize the distributions of user ratings using histograms and box plots. We'll continue working with the same dataset from the last mission. Recall that you can download the dataset fandango_scores.csv from the [FiveThirtEight Github repo](https://github.com/fivethirtyeight/data/tree/master/fandango). "
   ]
  },
  {
   "cell_type": "code",
   "execution_count": null,
   "metadata": {},
   "outputs": [],
   "source": [
    "import os\n",
    "\n",
    "# Define the name of your CSV file\n",
    "csv_filename = \"fandango_scores.csv\"\n",
    "\n",
    "# Get the current directory of the Python script\n",
    "current_directory = os.getcwd()\n",
    "\n",
    "# Move back to the grandparent directory (two levels up)\n",
    "project_directory = os.path.dirname(os.path.dirname(current_directory))\n",
    "\n",
    "# Navigate to the \"datasets\" folder\n",
    "datasets_directory = os.path.join(project_directory, \"DataSets\")\n",
    "\n",
    "# Construct the full path to your CSV file\n",
    "csv_path = os.path.join(datasets_directory, csv_filename)\n",
    "\n",
    "# Check if the file exists\n",
    "if os.path.exists(csv_path):\n",
    "    print(\"CSV file found at:\", csv_path)\n",
    "else:\n",
    "    print(\"CSV file not found at:\", csv_path)\n",
    "\n",
    "\n",
    "import pandas as pd\n",
    "import matplotlib.pyplot as plt\n",
    "reviews = pd.read_csv(csv_path)\n",
    "cols = ['FILM', 'RT_user_norm', 'Metacritic_user_nom', 'IMDB_norm', 'Fandango_Ratingvalue']\n",
    "norm_reviews = reviews[cols]\n",
    "print(norm_reviews[:5])"
   ]
  },
  {
   "cell_type": "markdown",
   "metadata": {},
   "source": [
    "# 2. Frequency Distribution"
   ]
  },
  {
   "cell_type": "markdown",
   "metadata": {},
   "source": [
    "* A column's **frequency distribution consists of the unique values in that column along with the count for each of those values** (or their frequency). We can use Series.value_counts() to return the frequency distribution as Series object:\n",
    "\n",
    "`freq_counts = df['Fandango_Ratingvalue'].value_counts()`"
   ]
  },
  {
   "cell_type": "markdown",
   "metadata": {},
   "source": [
    "* sort_index(): sort by unique values in ascending order\n",
    "* value_counts(): sort by frequency in descending order"
   ]
  },
  {
   "cell_type": "markdown",
   "metadata": {},
   "source": [
    "## TODO:\n",
    "* Use the value_counts() method to return the frequency counts for the Fandango_Ratingvalue column. Sort the resulting Series object by the index and assign to fandango_distribution.\n",
    "* Use the value_counts() method to return frequency counts the IMDB_norm column. Sort the resulting Series object by the index and assign to imdb_distribution.\n",
    "* Use the print() function to display fandango_distribution and imdb_distribution."
   ]
  },
  {
   "cell_type": "code",
   "execution_count": null,
   "metadata": {},
   "outputs": [],
   "source": [
    "fandago_distribution=norm_reviews['Fandango_Ratingvalue'].value_counts().sort_index()\n",
    "fandago_distribution"
   ]
  },
  {
   "cell_type": "code",
   "execution_count": null,
   "metadata": {},
   "outputs": [],
   "source": [
    "imdb_distribution=norm_reviews['IMDB_norm'].value_counts().sort_index()\n",
    "imdb_distribution"
   ]
  },
  {
   "cell_type": "markdown",
   "metadata": {},
   "source": [
    "# 3. Binning"
   ]
  },
  {
   "cell_type": "markdown",
   "metadata": {},
   "source": [
    "we can quickly scan the frequency counts and confirm that the Fandango_Ratingvalue column ranges from 2.7 to 4.8 while the IMDB_norm column ranges from 2 to 4.3. While we can quickly determine the minimum and maximum values, we struggle to answer the following questions about a column:\n",
    "\n",
    "* What percent of the ratings are contained in the 2.0 to 4.0 range?\n",
    "  * How does this compare with other sites?\n",
    "* Which values represent the top 25% of the ratings? The bottom 25%?\n",
    "  * How does this compare with other sites?"
   ]
  },
  {
   "cell_type": "markdown",
   "metadata": {},
   "source": [
    "* Comparing frequency distributions is also challenging because the Fandango_Ratingvalue column contains 21 unique values while IMDB_norm contains 41 unique values. `We need a way to compare frequencies across a shared set of values`. Because all ratings have been normalized to a range of 0 to 5, `we can start by dividing the range of possible values into a series of fixed length intervals, called bins.`"
   ]
  },
  {
   "cell_type": "code",
   "execution_count": null,
   "metadata": {},
   "outputs": [],
   "source": [
    "from IPython.display import Image\n",
    "Image(url='https://s3.amazonaws.com/dq-content/histogram_binning.png')"
   ]
  },
  {
   "cell_type": "markdown",
   "metadata": {},
   "source": [
    "**The distributions for both of these columns are now easier to compare because of the shared x-axis (the bins). We can now plot the bins along with the frequency sums as a bar plot. This type of plot is called a histogram.** "
   ]
  },
  {
   "cell_type": "markdown",
   "metadata": {},
   "source": [
    "# 4. Histogram In Matplotlib"
   ]
  },
  {
   "cell_type": "markdown",
   "metadata": {},
   "source": [
    "We can generate a histogram using Axes.hist(). This method has only 1 required parameter, an iterable object containing the values we want a histogram for. By default, matplotlib will:\n",
    "\n",
    "* calculate the minimum and maximum value from the sequence of values we passed in\n",
    "* create 10 bins of equal length that span the range from the minimum to the maximum value\n",
    "* group unique values into the bins\n",
    "* sum up the associated unique values\n",
    "* generate a bar for the frequency sum for each bin"
   ]
  },
  {
   "cell_type": "markdown",
   "metadata": {},
   "source": [
    "## TODO:\n",
    "* Create a single subplot and assign the returned Figure object to fig and the returned Axes object to ax.\n",
    "* Generate a histogram from the values in the Fandango_Ratingvalue column using a range of 0 to 5.\n",
    "* Use plt.show() to display the plot."
   ]
  },
  {
   "cell_type": "code",
   "execution_count": null,
   "metadata": {},
   "outputs": [],
   "source": [
    "import matplotlib.pyplot as plt\n",
    "%matplotlib inline\n",
    "\n",
    "fig,ax=plt.subplots()\n",
    "ax.hist(norm_reviews['Fandango_Ratingvalue'],range=(0,5))\n",
    "plt.show()"
   ]
  },
  {
   "cell_type": "markdown",
   "metadata": {},
   "source": [
    "# 5. Comparing histograms"
   ]
  },
  {
   "cell_type": "code",
   "execution_count": null,
   "metadata": {},
   "outputs": [],
   "source": [
    "fig = plt.figure(figsize=(5,20))\n",
    "ax1 = fig.add_subplot(4,1,1)\n",
    "ax2 = fig.add_subplot(4,1,2)\n",
    "ax3 = fig.add_subplot(4,1,3)\n",
    "ax4 = fig.add_subplot(4,1,4)\n",
    "ax1.hist(norm_reviews['Fandango_Ratingvalue'], bins=20, range=(0, 5))\n",
    "ax1.set_title('Distribution of Fandango Ratings')\n",
    "ax1.set_ylim(0, 50)\n",
    "\n",
    "ax2.hist(norm_reviews['RT_user_norm'], 20, range=(0, 5))\n",
    "ax2.set_title('Distribution of Rotten Tomatoes Ratings')\n",
    "ax2.set_ylim(0, 50)\n",
    "\n",
    "ax3.hist(norm_reviews['Metacritic_user_nom'], 20, range=(0, 5))\n",
    "ax3.set_title('Distribution of Metacritic Ratings')\n",
    "ax3.set_ylim(0, 50)\n",
    "\n",
    "ax4.hist(norm_reviews['IMDB_norm'], 20, range=(0, 5))\n",
    "ax4.set_title('Distribution of IMDB Ratings')\n",
    "ax4.set_ylim(0, 50)\n",
    "\n",
    "plt.show()"
   ]
  },
  {
   "cell_type": "markdown",
   "metadata": {},
   "source": [
    "# 6. Quartiles"
   ]
  },
  {
   "cell_type": "markdown",
   "metadata": {},
   "source": [
    "* From the histograms, we can make the following observations:\n",
    "\n",
    "  * Around 50% of user ratings from Fandango fall in the 2 to 4 score range\n",
    "  * Around 50% of user ratings from Rotten Tomatoes fall in the 2 to 4 score range\n",
    "  * Around 75% of the user ratings from Metacritic fall in the 2 to 4 score range\n",
    "  * Around 90% of the user ratings from IMDB fall in the 2 to 4 score range\n",
    "\n",
    "* While histograms allow us to visually estimate the percentage of ratings that fall into a range of bins, they don't allow us to easily understand how the top 25% or the bottom 25% of the ratings differ across the sites.\n",
    "* **The bottom 25% of values and top 25% of values both represent quartiles. The four quartiles divide the range of values into four regions where each region contains 1/4th of the total values.**"
   ]
  },
  {
   "cell_type": "markdown",
   "metadata": {},
   "source": [
    " To visualize quartiles, we need to use a box plot, also referred to as a [box-and-whisker plot](https://en.wikipedia.org/wiki/Box_plot)."
   ]
  },
  {
   "cell_type": "markdown",
   "metadata": {},
   "source": [
    "# 7. Box Plot"
   ]
  },
  {
   "cell_type": "markdown",
   "metadata": {},
   "source": [
    "`The two regions contained within the box in the middle make up the interquartile range, or IQR. The IQR is used to measure dispersion of the values.` The ratio of the length of the box to the whiskers around the box helps us understand how values in the distribution are spread out."
   ]
  },
  {
   "cell_type": "markdown",
   "metadata": {},
   "source": [
    "We can generate a boxplot using `Axes.boxplot()`"
   ]
  },
  {
   "cell_type": "markdown",
   "metadata": {},
   "source": [
    "## TODO:\n",
    "* Create a single subplot and assign the returned Figure object to fig and the returned Axes object to ax.\n",
    "* Generate a box plot from the values in the RT_user_norm column.\n",
    "  * Set the y-axis limit to range from 0 to 5.\n",
    "  * Set the x-axis tick label to Rotten Tomatoes.\n",
    "* Use plt.show() to display the plot."
   ]
  },
  {
   "cell_type": "code",
   "execution_count": null,
   "metadata": {},
   "outputs": [],
   "source": [
    "fig,ax=plt.subplots()\n",
    "ax.boxplot(norm_reviews['RT_user_norm'])\n",
    "ax.set_xticklabels(['Rotten Tomatoes'])\n",
    "ax.set_ylim(0,5)\n",
    "plt.show()"
   ]
  },
  {
   "cell_type": "markdown",
   "metadata": {},
   "source": [
    "# 8. Multiple Box Plots"
   ]
  },
  {
   "cell_type": "markdown",
   "metadata": {},
   "source": [
    "* From the box plot we generated using Rotten Tomatoes ratings, we can conclude that:\n",
    "\n",
    "  * the bottom 25% of user ratings range from around 1 to 2.5\n",
    "  * the top 25% of of user ratings range from around 4 to 4.6"
   ]
  },
  {
   "cell_type": "markdown",
   "metadata": {},
   "source": [
    "`To compare the lower and upper ranges with those for the other columns, we need to generate multiple box-and-whisker diagrams in the same box plot.` When selecting multiple columns to pass in to Axes.boxplot(), we need to use the values accessor to return a multi-dimensional numpy array:"
   ]
  },
  {
   "cell_type": "code",
   "execution_count": null,
   "metadata": {},
   "outputs": [],
   "source": [
    "num_cols = ['RT_user_norm', 'Metacritic_user_nom', 'IMDB_norm', 'Fandango_Ratingvalue']\n",
    "fig,ax=plt.subplots()\n",
    "ax.boxplot(norm_reviews[num_cols].values)\n",
    "ax.set_xticklabels(num_cols,rotation=90)\n",
    "ax.set_ylim(0,5)\n",
    "plt.show()"
   ]
  },
  {
   "cell_type": "markdown",
   "metadata": {},
   "source": [
    "From the boxplot, we can reach the following conclusions:\n",
    "\n",
    "* user ratings from Rotten Tomatoes and Metacritic span a larger range of values\n",
    "* user ratings from IMDB and Fandango are both skewed in the positive direction and span a more constrained range of values"
   ]
  }
 ],
 "metadata": {
  "kernelspec": {
   "display_name": "Python 3",
   "language": "python",
   "name": "python3"
  },
  "language_info": {
   "codemirror_mode": {
    "name": "ipython",
    "version": 3
   },
   "file_extension": ".py",
   "mimetype": "text/x-python",
   "name": "python",
   "nbconvert_exporter": "python",
   "pygments_lexer": "ipython3",
   "version": "3.7.3"
  }
 },
 "nbformat": 4,
 "nbformat_minor": 2
}
